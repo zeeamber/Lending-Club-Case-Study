{
 "cells": [
  {
   "cell_type": "markdown",
   "id": "d9094da3",
   "metadata": {},
   "source": [
    "# Importing python libraries"
   ]
  },
  {
   "cell_type": "code",
   "execution_count": 1,
   "id": "60a2b767",
   "metadata": {},
   "outputs": [],
   "source": [
    "import numpy as np\n",
    "import pandas as pd\n",
    "import matplotlib.pyplot as plt\n",
    "import seaborn as sns\n",
    "import datetime as dt\n",
    "import dateutil.parser as dparser"
   ]
  },
  {
   "cell_type": "markdown",
   "id": "ded0f920",
   "metadata": {},
   "source": [
    "# Reading dataset"
   ]
  },
  {
   "cell_type": "markdown",
   "id": "732e1bd1",
   "metadata": {},
   "source": [
    "###### Load loan.csv in a dataframe"
   ]
  },
  {
   "cell_type": "code",
   "execution_count": 2,
   "id": "98f872bf",
   "metadata": {},
   "outputs": [],
   "source": [
    "# Specify columns which need to be parsed as dates\n",
    "parse_dates = [\"last_pymnt_d\", \"next_pymnt_d\"]"
   ]
  },
  {
   "cell_type": "code",
   "execution_count": 3,
   "id": "49e308db",
   "metadata": {},
   "outputs": [],
   "source": [
    "loan_df = pd.read_csv(\"loan.csv\", parse_dates = parse_dates)"
   ]
  },
  {
   "cell_type": "markdown",
   "id": "d95a6b37",
   "metadata": {},
   "source": [
    "# Understanding dataset"
   ]
  },
  {
   "cell_type": "markdown",
   "id": "8e2f5299",
   "metadata": {},
   "source": [
    "### Data overview"
   ]
  },
  {
   "cell_type": "code",
   "execution_count": 4,
   "id": "4df9c208",
   "metadata": {},
   "outputs": [
    {
     "data": {
      "text/html": [
       "<div>\n",
       "<style scoped>\n",
       "    .dataframe tbody tr th:only-of-type {\n",
       "        vertical-align: middle;\n",
       "    }\n",
       "\n",
       "    .dataframe tbody tr th {\n",
       "        vertical-align: top;\n",
       "    }\n",
       "\n",
       "    .dataframe thead th {\n",
       "        text-align: right;\n",
       "    }\n",
       "</style>\n",
       "<table border=\"1\" class=\"dataframe\">\n",
       "  <thead>\n",
       "    <tr style=\"text-align: right;\">\n",
       "      <th></th>\n",
       "      <th>id</th>\n",
       "      <th>member_id</th>\n",
       "      <th>loan_amnt</th>\n",
       "      <th>funded_amnt</th>\n",
       "      <th>funded_amnt_inv</th>\n",
       "      <th>term</th>\n",
       "      <th>int_rate</th>\n",
       "      <th>installment</th>\n",
       "      <th>grade</th>\n",
       "      <th>sub_grade</th>\n",
       "      <th>...</th>\n",
       "      <th>num_tl_90g_dpd_24m</th>\n",
       "      <th>num_tl_op_past_12m</th>\n",
       "      <th>pct_tl_nvr_dlq</th>\n",
       "      <th>percent_bc_gt_75</th>\n",
       "      <th>pub_rec_bankruptcies</th>\n",
       "      <th>tax_liens</th>\n",
       "      <th>tot_hi_cred_lim</th>\n",
       "      <th>total_bal_ex_mort</th>\n",
       "      <th>total_bc_limit</th>\n",
       "      <th>total_il_high_credit_limit</th>\n",
       "    </tr>\n",
       "  </thead>\n",
       "  <tbody>\n",
       "    <tr>\n",
       "      <th>0</th>\n",
       "      <td>1077501</td>\n",
       "      <td>1296599</td>\n",
       "      <td>5000</td>\n",
       "      <td>5000</td>\n",
       "      <td>4975.0</td>\n",
       "      <td>36 months</td>\n",
       "      <td>10.65%</td>\n",
       "      <td>162.87</td>\n",
       "      <td>B</td>\n",
       "      <td>B2</td>\n",
       "      <td>...</td>\n",
       "      <td>NaN</td>\n",
       "      <td>NaN</td>\n",
       "      <td>NaN</td>\n",
       "      <td>NaN</td>\n",
       "      <td>0.0</td>\n",
       "      <td>0.0</td>\n",
       "      <td>NaN</td>\n",
       "      <td>NaN</td>\n",
       "      <td>NaN</td>\n",
       "      <td>NaN</td>\n",
       "    </tr>\n",
       "    <tr>\n",
       "      <th>1</th>\n",
       "      <td>1077430</td>\n",
       "      <td>1314167</td>\n",
       "      <td>2500</td>\n",
       "      <td>2500</td>\n",
       "      <td>2500.0</td>\n",
       "      <td>60 months</td>\n",
       "      <td>15.27%</td>\n",
       "      <td>59.83</td>\n",
       "      <td>C</td>\n",
       "      <td>C4</td>\n",
       "      <td>...</td>\n",
       "      <td>NaN</td>\n",
       "      <td>NaN</td>\n",
       "      <td>NaN</td>\n",
       "      <td>NaN</td>\n",
       "      <td>0.0</td>\n",
       "      <td>0.0</td>\n",
       "      <td>NaN</td>\n",
       "      <td>NaN</td>\n",
       "      <td>NaN</td>\n",
       "      <td>NaN</td>\n",
       "    </tr>\n",
       "    <tr>\n",
       "      <th>2</th>\n",
       "      <td>1077175</td>\n",
       "      <td>1313524</td>\n",
       "      <td>2400</td>\n",
       "      <td>2400</td>\n",
       "      <td>2400.0</td>\n",
       "      <td>36 months</td>\n",
       "      <td>15.96%</td>\n",
       "      <td>84.33</td>\n",
       "      <td>C</td>\n",
       "      <td>C5</td>\n",
       "      <td>...</td>\n",
       "      <td>NaN</td>\n",
       "      <td>NaN</td>\n",
       "      <td>NaN</td>\n",
       "      <td>NaN</td>\n",
       "      <td>0.0</td>\n",
       "      <td>0.0</td>\n",
       "      <td>NaN</td>\n",
       "      <td>NaN</td>\n",
       "      <td>NaN</td>\n",
       "      <td>NaN</td>\n",
       "    </tr>\n",
       "    <tr>\n",
       "      <th>3</th>\n",
       "      <td>1076863</td>\n",
       "      <td>1277178</td>\n",
       "      <td>10000</td>\n",
       "      <td>10000</td>\n",
       "      <td>10000.0</td>\n",
       "      <td>36 months</td>\n",
       "      <td>13.49%</td>\n",
       "      <td>339.31</td>\n",
       "      <td>C</td>\n",
       "      <td>C1</td>\n",
       "      <td>...</td>\n",
       "      <td>NaN</td>\n",
       "      <td>NaN</td>\n",
       "      <td>NaN</td>\n",
       "      <td>NaN</td>\n",
       "      <td>0.0</td>\n",
       "      <td>0.0</td>\n",
       "      <td>NaN</td>\n",
       "      <td>NaN</td>\n",
       "      <td>NaN</td>\n",
       "      <td>NaN</td>\n",
       "    </tr>\n",
       "    <tr>\n",
       "      <th>4</th>\n",
       "      <td>1075358</td>\n",
       "      <td>1311748</td>\n",
       "      <td>3000</td>\n",
       "      <td>3000</td>\n",
       "      <td>3000.0</td>\n",
       "      <td>60 months</td>\n",
       "      <td>12.69%</td>\n",
       "      <td>67.79</td>\n",
       "      <td>B</td>\n",
       "      <td>B5</td>\n",
       "      <td>...</td>\n",
       "      <td>NaN</td>\n",
       "      <td>NaN</td>\n",
       "      <td>NaN</td>\n",
       "      <td>NaN</td>\n",
       "      <td>0.0</td>\n",
       "      <td>0.0</td>\n",
       "      <td>NaN</td>\n",
       "      <td>NaN</td>\n",
       "      <td>NaN</td>\n",
       "      <td>NaN</td>\n",
       "    </tr>\n",
       "  </tbody>\n",
       "</table>\n",
       "<p>5 rows × 111 columns</p>\n",
       "</div>"
      ],
      "text/plain": [
       "        id  member_id  loan_amnt  funded_amnt  funded_amnt_inv        term  \\\n",
       "0  1077501    1296599       5000         5000           4975.0   36 months   \n",
       "1  1077430    1314167       2500         2500           2500.0   60 months   \n",
       "2  1077175    1313524       2400         2400           2400.0   36 months   \n",
       "3  1076863    1277178      10000        10000          10000.0   36 months   \n",
       "4  1075358    1311748       3000         3000           3000.0   60 months   \n",
       "\n",
       "  int_rate  installment grade sub_grade  ... num_tl_90g_dpd_24m  \\\n",
       "0   10.65%       162.87     B        B2  ...                NaN   \n",
       "1   15.27%        59.83     C        C4  ...                NaN   \n",
       "2   15.96%        84.33     C        C5  ...                NaN   \n",
       "3   13.49%       339.31     C        C1  ...                NaN   \n",
       "4   12.69%        67.79     B        B5  ...                NaN   \n",
       "\n",
       "  num_tl_op_past_12m pct_tl_nvr_dlq  percent_bc_gt_75 pub_rec_bankruptcies  \\\n",
       "0                NaN            NaN               NaN                  0.0   \n",
       "1                NaN            NaN               NaN                  0.0   \n",
       "2                NaN            NaN               NaN                  0.0   \n",
       "3                NaN            NaN               NaN                  0.0   \n",
       "4                NaN            NaN               NaN                  0.0   \n",
       "\n",
       "  tax_liens tot_hi_cred_lim total_bal_ex_mort total_bc_limit  \\\n",
       "0       0.0             NaN               NaN            NaN   \n",
       "1       0.0             NaN               NaN            NaN   \n",
       "2       0.0             NaN               NaN            NaN   \n",
       "3       0.0             NaN               NaN            NaN   \n",
       "4       0.0             NaN               NaN            NaN   \n",
       "\n",
       "  total_il_high_credit_limit  \n",
       "0                        NaN  \n",
       "1                        NaN  \n",
       "2                        NaN  \n",
       "3                        NaN  \n",
       "4                        NaN  \n",
       "\n",
       "[5 rows x 111 columns]"
      ]
     },
     "execution_count": 4,
     "metadata": {},
     "output_type": "execute_result"
    }
   ],
   "source": [
    "loan_df.head()"
   ]
  },
  {
   "cell_type": "code",
   "execution_count": 5,
   "id": "bcc48aa2",
   "metadata": {},
   "outputs": [
    {
     "data": {
      "text/plain": [
       "(39717, 111)"
      ]
     },
     "execution_count": 5,
     "metadata": {},
     "output_type": "execute_result"
    }
   ],
   "source": [
    "loan_df.shape"
   ]
  },
  {
   "cell_type": "code",
   "execution_count": 6,
   "id": "e5b26ae5",
   "metadata": {},
   "outputs": [
    {
     "data": {
      "text/plain": [
       "float64    74\n",
       "object     24\n",
       "int64      13\n",
       "dtype: int64"
      ]
     },
     "execution_count": 6,
     "metadata": {},
     "output_type": "execute_result"
    }
   ],
   "source": [
    "pd.value_counts(loan_df.dtypes)"
   ]
  },
  {
   "cell_type": "code",
   "execution_count": 7,
   "id": "85ac6dc9",
   "metadata": {},
   "outputs": [
    {
     "name": "stdout",
     "output_type": "stream",
     "text": [
      "<class 'pandas.core.frame.DataFrame'>\n",
      "RangeIndex: 39717 entries, 0 to 39716\n",
      "Data columns (total 111 columns):\n",
      " #    Column                          Non-Null Count  Dtype  \n",
      "---   ------                          --------------  -----  \n",
      " 0    id                              39717 non-null  int64  \n",
      " 1    member_id                       39717 non-null  int64  \n",
      " 2    loan_amnt                       39717 non-null  int64  \n",
      " 3    funded_amnt                     39717 non-null  int64  \n",
      " 4    funded_amnt_inv                 39717 non-null  float64\n",
      " 5    term                            39717 non-null  object \n",
      " 6    int_rate                        39717 non-null  object \n",
      " 7    installment                     39717 non-null  float64\n",
      " 8    grade                           39717 non-null  object \n",
      " 9    sub_grade                       39717 non-null  object \n",
      " 10   emp_title                       37258 non-null  object \n",
      " 11   emp_length                      38642 non-null  object \n",
      " 12   home_ownership                  39717 non-null  object \n",
      " 13   annual_inc                      39717 non-null  float64\n",
      " 14   verification_status             39717 non-null  object \n",
      " 15   issue_d                         39717 non-null  object \n",
      " 16   loan_status                     39717 non-null  object \n",
      " 17   pymnt_plan                      39717 non-null  object \n",
      " 18   url                             39717 non-null  object \n",
      " 19   desc                            26777 non-null  object \n",
      " 20   purpose                         39717 non-null  object \n",
      " 21   title                           39706 non-null  object \n",
      " 22   zip_code                        39717 non-null  object \n",
      " 23   addr_state                      39717 non-null  object \n",
      " 24   dti                             39717 non-null  float64\n",
      " 25   delinq_2yrs                     39717 non-null  int64  \n",
      " 26   earliest_cr_line                39717 non-null  object \n",
      " 27   inq_last_6mths                  39717 non-null  int64  \n",
      " 28   mths_since_last_delinq          14035 non-null  float64\n",
      " 29   mths_since_last_record          2786 non-null   float64\n",
      " 30   open_acc                        39717 non-null  int64  \n",
      " 31   pub_rec                         39717 non-null  int64  \n",
      " 32   revol_bal                       39717 non-null  int64  \n",
      " 33   revol_util                      39667 non-null  object \n",
      " 34   total_acc                       39717 non-null  int64  \n",
      " 35   initial_list_status             39717 non-null  object \n",
      " 36   out_prncp                       39717 non-null  float64\n",
      " 37   out_prncp_inv                   39717 non-null  float64\n",
      " 38   total_pymnt                     39717 non-null  float64\n",
      " 39   total_pymnt_inv                 39717 non-null  float64\n",
      " 40   total_rec_prncp                 39717 non-null  float64\n",
      " 41   total_rec_int                   39717 non-null  float64\n",
      " 42   total_rec_late_fee              39717 non-null  float64\n",
      " 43   recoveries                      39717 non-null  float64\n",
      " 44   collection_recovery_fee         39717 non-null  float64\n",
      " 45   last_pymnt_d                    39646 non-null  object \n",
      " 46   last_pymnt_amnt                 39717 non-null  float64\n",
      " 47   next_pymnt_d                    1140 non-null   object \n",
      " 48   last_credit_pull_d              39715 non-null  object \n",
      " 49   collections_12_mths_ex_med      39661 non-null  float64\n",
      " 50   mths_since_last_major_derog     0 non-null      float64\n",
      " 51   policy_code                     39717 non-null  int64  \n",
      " 52   application_type                39717 non-null  object \n",
      " 53   annual_inc_joint                0 non-null      float64\n",
      " 54   dti_joint                       0 non-null      float64\n",
      " 55   verification_status_joint       0 non-null      float64\n",
      " 56   acc_now_delinq                  39717 non-null  int64  \n",
      " 57   tot_coll_amt                    0 non-null      float64\n",
      " 58   tot_cur_bal                     0 non-null      float64\n",
      " 59   open_acc_6m                     0 non-null      float64\n",
      " 60   open_il_6m                      0 non-null      float64\n",
      " 61   open_il_12m                     0 non-null      float64\n",
      " 62   open_il_24m                     0 non-null      float64\n",
      " 63   mths_since_rcnt_il              0 non-null      float64\n",
      " 64   total_bal_il                    0 non-null      float64\n",
      " 65   il_util                         0 non-null      float64\n",
      " 66   open_rv_12m                     0 non-null      float64\n",
      " 67   open_rv_24m                     0 non-null      float64\n",
      " 68   max_bal_bc                      0 non-null      float64\n",
      " 69   all_util                        0 non-null      float64\n",
      " 70   total_rev_hi_lim                0 non-null      float64\n",
      " 71   inq_fi                          0 non-null      float64\n",
      " 72   total_cu_tl                     0 non-null      float64\n",
      " 73   inq_last_12m                    0 non-null      float64\n",
      " 74   acc_open_past_24mths            0 non-null      float64\n",
      " 75   avg_cur_bal                     0 non-null      float64\n",
      " 76   bc_open_to_buy                  0 non-null      float64\n",
      " 77   bc_util                         0 non-null      float64\n",
      " 78   chargeoff_within_12_mths        39661 non-null  float64\n",
      " 79   delinq_amnt                     39717 non-null  int64  \n",
      " 80   mo_sin_old_il_acct              0 non-null      float64\n",
      " 81   mo_sin_old_rev_tl_op            0 non-null      float64\n",
      " 82   mo_sin_rcnt_rev_tl_op           0 non-null      float64\n",
      " 83   mo_sin_rcnt_tl                  0 non-null      float64\n",
      " 84   mort_acc                        0 non-null      float64\n",
      " 85   mths_since_recent_bc            0 non-null      float64\n",
      " 86   mths_since_recent_bc_dlq        0 non-null      float64\n",
      " 87   mths_since_recent_inq           0 non-null      float64\n",
      " 88   mths_since_recent_revol_delinq  0 non-null      float64\n",
      " 89   num_accts_ever_120_pd           0 non-null      float64\n",
      " 90   num_actv_bc_tl                  0 non-null      float64\n",
      " 91   num_actv_rev_tl                 0 non-null      float64\n",
      " 92   num_bc_sats                     0 non-null      float64\n",
      " 93   num_bc_tl                       0 non-null      float64\n",
      " 94   num_il_tl                       0 non-null      float64\n",
      " 95   num_op_rev_tl                   0 non-null      float64\n",
      " 96   num_rev_accts                   0 non-null      float64\n",
      " 97   num_rev_tl_bal_gt_0             0 non-null      float64\n",
      " 98   num_sats                        0 non-null      float64\n",
      " 99   num_tl_120dpd_2m                0 non-null      float64\n",
      " 100  num_tl_30dpd                    0 non-null      float64\n",
      " 101  num_tl_90g_dpd_24m              0 non-null      float64\n",
      " 102  num_tl_op_past_12m              0 non-null      float64\n",
      " 103  pct_tl_nvr_dlq                  0 non-null      float64\n",
      " 104  percent_bc_gt_75                0 non-null      float64\n",
      " 105  pub_rec_bankruptcies            39020 non-null  float64\n",
      " 106  tax_liens                       39678 non-null  float64\n",
      " 107  tot_hi_cred_lim                 0 non-null      float64\n",
      " 108  total_bal_ex_mort               0 non-null      float64\n",
      " 109  total_bc_limit                  0 non-null      float64\n",
      " 110  total_il_high_credit_limit      0 non-null      float64\n",
      "dtypes: float64(74), int64(13), object(24)\n",
      "memory usage: 33.6+ MB\n"
     ]
    }
   ],
   "source": [
    "loan_df.info(verbose = True, show_counts = True)"
   ]
  },
  {
   "cell_type": "markdown",
   "id": "2390f31a",
   "metadata": {},
   "source": [
    "#### Analysing columns with all null values"
   ]
  },
  {
   "cell_type": "code",
   "execution_count": 8,
   "id": "1b01a2fd",
   "metadata": {},
   "outputs": [],
   "source": [
    "columns_with_no_data = loan_df.columns[loan_df.isnull().all()].to_list()"
   ]
  },
  {
   "cell_type": "code",
   "execution_count": 9,
   "id": "a1dfbaa8",
   "metadata": {},
   "outputs": [
    {
     "data": {
      "text/plain": [
       "54"
      ]
     },
     "execution_count": 9,
     "metadata": {},
     "output_type": "execute_result"
    }
   ],
   "source": [
    "len(columns_with_no_data)"
   ]
  },
  {
   "cell_type": "markdown",
   "id": "7f2ea516",
   "metadata": {},
   "source": [
    "There are total 54 columns out of total 111, with all null values in the dataset. We can get rid of them as they won't bring any value to our analysis."
   ]
  },
  {
   "cell_type": "markdown",
   "id": "3b052fa7",
   "metadata": {},
   "source": [
    "# Data cleaning"
   ]
  },
  {
   "cell_type": "markdown",
   "id": "2fa7b845",
   "metadata": {},
   "source": [
    "### Remove columns having 0 non-null values"
   ]
  },
  {
   "cell_type": "code",
   "execution_count": 10,
   "id": "7c223d6f",
   "metadata": {},
   "outputs": [
    {
     "data": {
      "text/plain": [
       "(39717, 57)"
      ]
     },
     "execution_count": 10,
     "metadata": {},
     "output_type": "execute_result"
    }
   ],
   "source": [
    "loan_df.drop(columns = columns_with_no_data, inplace = True)\n",
    "loan_df.shape"
   ]
  },
  {
   "cell_type": "markdown",
   "id": "fbc23793",
   "metadata": {},
   "source": [
    "### Removing columns with more than 30% of null values"
   ]
  },
  {
   "cell_type": "code",
   "execution_count": 11,
   "id": "6c82c769",
   "metadata": {},
   "outputs": [
    {
     "data": {
      "text/plain": [
       "11915"
      ]
     },
     "execution_count": 11,
     "metadata": {},
     "output_type": "execute_result"
    }
   ],
   "source": [
    "null_values_threshold = int(loan_df.shape[0] * (30 / 100))\n",
    "null_values_threshold"
   ]
  },
  {
   "cell_type": "code",
   "execution_count": 12,
   "id": "f6350bcd",
   "metadata": {},
   "outputs": [
    {
     "data": {
      "text/plain": [
       "['desc', 'mths_since_last_delinq', 'mths_since_last_record', 'next_pymnt_d']"
      ]
     },
     "execution_count": 12,
     "metadata": {},
     "output_type": "execute_result"
    }
   ],
   "source": [
    "columns_with_highers_null_values = loan_df.columns[loan_df.isnull().sum() > null_values_threshold].to_list()\n",
    "columns_with_highers_null_values"
   ]
  },
  {
   "cell_type": "markdown",
   "id": "889a60ae",
   "metadata": {},
   "source": [
    "##### Columns having more than 30% missing values would be difficult to impute and might lead to wrong results so we can drop them"
   ]
  },
  {
   "cell_type": "code",
   "execution_count": 13,
   "id": "d3430feb",
   "metadata": {},
   "outputs": [
    {
     "data": {
      "text/plain": [
       "(39717, 53)"
      ]
     },
     "execution_count": 13,
     "metadata": {},
     "output_type": "execute_result"
    }
   ],
   "source": [
    "loan_df.drop(columns = columns_with_highers_null_values, inplace = True)\n",
    "loan_df.shape"
   ]
  },
  {
   "cell_type": "markdown",
   "id": "6deef27f",
   "metadata": {},
   "source": [
    "#### Removing column zip_code as it is a masked data"
   ]
  },
  {
   "cell_type": "code",
   "execution_count": 14,
   "id": "d9c2a8bf",
   "metadata": {},
   "outputs": [
    {
     "data": {
      "text/plain": [
       "(39717, 52)"
      ]
     },
     "execution_count": 14,
     "metadata": {},
     "output_type": "execute_result"
    }
   ],
   "source": [
    "loan_df.drop(\"zip_code\", axis = 1, inplace = True)\n",
    "loan_df.shape"
   ]
  },
  {
   "cell_type": "markdown",
   "id": "d841c369",
   "metadata": {},
   "source": [
    "#### Removing url as its derived from id column and doesn't serve any special purpose for analysis"
   ]
  },
  {
   "cell_type": "code",
   "execution_count": 15,
   "id": "908fd36b",
   "metadata": {},
   "outputs": [
    {
     "data": {
      "text/plain": [
       "(39717, 51)"
      ]
     },
     "execution_count": 15,
     "metadata": {},
     "output_type": "execute_result"
    }
   ],
   "source": [
    "loan_df.drop(\"url\", axis = 1, inplace = True)\n",
    "loan_df.shape"
   ]
  },
  {
   "cell_type": "markdown",
   "id": "758b538b",
   "metadata": {},
   "source": [
    "#### Removing emp_title. Seems to be just some company names of customers"
   ]
  },
  {
   "cell_type": "code",
   "execution_count": 16,
   "id": "452ba107",
   "metadata": {},
   "outputs": [
    {
     "data": {
      "text/plain": [
       "(39717, 50)"
      ]
     },
     "execution_count": 16,
     "metadata": {},
     "output_type": "execute_result"
    }
   ],
   "source": [
    "loan_df.drop(\"emp_title\", axis = 1, inplace = True)\n",
    "loan_df.shape"
   ]
  },
  {
   "cell_type": "markdown",
   "id": "8239fa3b",
   "metadata": {},
   "source": [
    "#### Removing columns tax_liens and delinq_amnt because all values are either null or 0"
   ]
  },
  {
   "cell_type": "code",
   "execution_count": 17,
   "id": "80c5522c",
   "metadata": {},
   "outputs": [
    {
     "data": {
      "text/html": [
       "<div>\n",
       "<style scoped>\n",
       "    .dataframe tbody tr th:only-of-type {\n",
       "        vertical-align: middle;\n",
       "    }\n",
       "\n",
       "    .dataframe tbody tr th {\n",
       "        vertical-align: top;\n",
       "    }\n",
       "\n",
       "    .dataframe thead th {\n",
       "        text-align: right;\n",
       "    }\n",
       "</style>\n",
       "<table border=\"1\" class=\"dataframe\">\n",
       "  <thead>\n",
       "    <tr style=\"text-align: right;\">\n",
       "      <th></th>\n",
       "      <th>count</th>\n",
       "      <th>mean</th>\n",
       "      <th>std</th>\n",
       "      <th>min</th>\n",
       "      <th>25%</th>\n",
       "      <th>50%</th>\n",
       "      <th>75%</th>\n",
       "      <th>max</th>\n",
       "    </tr>\n",
       "  </thead>\n",
       "  <tbody>\n",
       "    <tr>\n",
       "      <th>tax_liens</th>\n",
       "      <td>39678.0</td>\n",
       "      <td>0.0</td>\n",
       "      <td>0.0</td>\n",
       "      <td>0.0</td>\n",
       "      <td>0.0</td>\n",
       "      <td>0.0</td>\n",
       "      <td>0.0</td>\n",
       "      <td>0.0</td>\n",
       "    </tr>\n",
       "    <tr>\n",
       "      <th>delinq_amnt</th>\n",
       "      <td>39717.0</td>\n",
       "      <td>0.0</td>\n",
       "      <td>0.0</td>\n",
       "      <td>0.0</td>\n",
       "      <td>0.0</td>\n",
       "      <td>0.0</td>\n",
       "      <td>0.0</td>\n",
       "      <td>0.0</td>\n",
       "    </tr>\n",
       "  </tbody>\n",
       "</table>\n",
       "</div>"
      ],
      "text/plain": [
       "               count  mean  std  min  25%  50%  75%  max\n",
       "tax_liens    39678.0   0.0  0.0  0.0  0.0  0.0  0.0  0.0\n",
       "delinq_amnt  39717.0   0.0  0.0  0.0  0.0  0.0  0.0  0.0"
      ]
     },
     "execution_count": 17,
     "metadata": {},
     "output_type": "execute_result"
    }
   ],
   "source": [
    "loan_df[[\"tax_liens\", \"delinq_amnt\"]].describe().T"
   ]
  },
  {
   "cell_type": "code",
   "execution_count": 18,
   "id": "5cfa4feb",
   "metadata": {},
   "outputs": [
    {
     "data": {
      "text/plain": [
       "(39717, 48)"
      ]
     },
     "execution_count": 18,
     "metadata": {},
     "output_type": "execute_result"
    }
   ],
   "source": [
    "loan_df.drop(columns = [\"tax_liens\", \"delinq_amnt\"], inplace = True)\n",
    "loan_df.shape"
   ]
  },
  {
   "cell_type": "markdown",
   "id": "28e4cc0f",
   "metadata": {},
   "source": [
    "#### Understanding loan_status"
   ]
  },
  {
   "cell_type": "code",
   "execution_count": 19,
   "id": "83e70b23",
   "metadata": {},
   "outputs": [
    {
     "data": {
      "text/plain": [
       "Fully Paid     32950\n",
       "Charged Off     5627\n",
       "Current         1140\n",
       "Name: loan_status, dtype: int64"
      ]
     },
     "execution_count": 19,
     "metadata": {},
     "output_type": "execute_result"
    }
   ],
   "source": [
    "loan_df[\"loan_status\"].value_counts()"
   ]
  },
  {
   "cell_type": "markdown",
   "id": "3b2a42df",
   "metadata": {},
   "source": [
    "We need to dropoff \"Current\" loan_status from the dataset because we can not do a prescriptive analysis on the ongoing loans"
   ]
  },
  {
   "cell_type": "code",
   "execution_count": 20,
   "id": "c1b5ece6",
   "metadata": {},
   "outputs": [
    {
     "data": {
      "text/plain": [
       "(38577, 48)"
      ]
     },
     "execution_count": 20,
     "metadata": {},
     "output_type": "execute_result"
    }
   ],
   "source": [
    "loan_df = loan_df[~(loan_df[\"loan_status\"] == \"Current\")]\n",
    "loan_df.shape"
   ]
  },
  {
   "cell_type": "markdown",
   "id": "301dd48a",
   "metadata": {},
   "source": [
    "#### id and member_id are identifiers so we can drop these"
   ]
  },
  {
   "cell_type": "code",
   "execution_count": 21,
   "id": "b22f38c1",
   "metadata": {},
   "outputs": [
    {
     "name": "stdout",
     "output_type": "stream",
     "text": [
      "is id column an identifier: True\n",
      "is member_id column an identifier: True\n"
     ]
    }
   ],
   "source": [
    "print(\"is id column an identifier: \" + str(loan_df[\"id\"].is_unique))\n",
    "print(\"is member_id column an identifier: \" + str(loan_df[\"member_id\"].is_unique))"
   ]
  },
  {
   "cell_type": "code",
   "execution_count": 23,
   "id": "0e61bd38",
   "metadata": {},
   "outputs": [
    {
     "data": {
      "text/plain": [
       "(38577, 46)"
      ]
     },
     "execution_count": 23,
     "metadata": {},
     "output_type": "execute_result"
    }
   ],
   "source": [
    "loan_df.drop(columns = [\"id\", \"member_id\"], inplace = True)\n",
    "loan_df.shape"
   ]
  },
  {
   "cell_type": "markdown",
   "id": "e098434f",
   "metadata": {},
   "source": [
    "#### Inspect application_type"
   ]
  },
  {
   "cell_type": "code",
   "execution_count": 26,
   "id": "76275f2a",
   "metadata": {},
   "outputs": [
    {
     "data": {
      "text/plain": [
       "INDIVIDUAL    38577\n",
       "Name: application_type, dtype: int64"
      ]
     },
     "execution_count": 26,
     "metadata": {},
     "output_type": "execute_result"
    }
   ],
   "source": [
    "loan_df[\"application_type\"].value_counts()"
   ]
  },
  {
   "cell_type": "code",
   "execution_count": 27,
   "id": "9f2d7b81",
   "metadata": {},
   "outputs": [
    {
     "data": {
      "text/plain": [
       "(38577, 45)"
      ]
     },
     "execution_count": 27,
     "metadata": {},
     "output_type": "execute_result"
    }
   ],
   "source": [
    "# Droping as all application_type are same\n",
    "loan_df.drop(\"application_type\", axis = 1, inplace = True)\n",
    "loan_df.shape"
   ]
  },
  {
   "cell_type": "markdown",
   "id": "a592a751",
   "metadata": {},
   "source": [
    "#### Duplicate data inspection"
   ]
  },
  {
   "cell_type": "code",
   "execution_count": 24,
   "id": "e5e05f2f",
   "metadata": {},
   "outputs": [
    {
     "data": {
      "text/plain": [
       "False"
      ]
     },
     "execution_count": 24,
     "metadata": {},
     "output_type": "execute_result"
    }
   ],
   "source": [
    "loan_df.duplicated().any()"
   ]
  },
  {
   "cell_type": "code",
   "execution_count": null,
   "id": "0d77be46",
   "metadata": {},
   "outputs": [],
   "source": []
  },
  {
   "cell_type": "code",
   "execution_count": 22,
   "id": "9186f51a",
   "metadata": {},
   "outputs": [
    {
     "name": "stdout",
     "output_type": "stream",
     "text": [
      "<class 'pandas.core.frame.DataFrame'>\n",
      "Int64Index: 38577 entries, 0 to 39716\n",
      "Data columns (total 48 columns):\n",
      " #   Column                      Non-Null Count  Dtype  \n",
      "---  ------                      --------------  -----  \n",
      " 0   id                          38577 non-null  int64  \n",
      " 1   member_id                   38577 non-null  int64  \n",
      " 2   loan_amnt                   38577 non-null  int64  \n",
      " 3   funded_amnt                 38577 non-null  int64  \n",
      " 4   funded_amnt_inv             38577 non-null  float64\n",
      " 5   term                        38577 non-null  object \n",
      " 6   int_rate                    38577 non-null  object \n",
      " 7   installment                 38577 non-null  float64\n",
      " 8   grade                       38577 non-null  object \n",
      " 9   sub_grade                   38577 non-null  object \n",
      " 10  emp_length                  37544 non-null  object \n",
      " 11  home_ownership              38577 non-null  object \n",
      " 12  annual_inc                  38577 non-null  float64\n",
      " 13  verification_status         38577 non-null  object \n",
      " 14  issue_d                     38577 non-null  object \n",
      " 15  loan_status                 38577 non-null  object \n",
      " 16  pymnt_plan                  38577 non-null  object \n",
      " 17  purpose                     38577 non-null  object \n",
      " 18  title                       38566 non-null  object \n",
      " 19  addr_state                  38577 non-null  object \n",
      " 20  dti                         38577 non-null  float64\n",
      " 21  delinq_2yrs                 38577 non-null  int64  \n",
      " 22  earliest_cr_line            38577 non-null  object \n",
      " 23  inq_last_6mths              38577 non-null  int64  \n",
      " 24  open_acc                    38577 non-null  int64  \n",
      " 25  pub_rec                     38577 non-null  int64  \n",
      " 26  revol_bal                   38577 non-null  int64  \n",
      " 27  revol_util                  38527 non-null  object \n",
      " 28  total_acc                   38577 non-null  int64  \n",
      " 29  initial_list_status         38577 non-null  object \n",
      " 30  out_prncp                   38577 non-null  float64\n",
      " 31  out_prncp_inv               38577 non-null  float64\n",
      " 32  total_pymnt                 38577 non-null  float64\n",
      " 33  total_pymnt_inv             38577 non-null  float64\n",
      " 34  total_rec_prncp             38577 non-null  float64\n",
      " 35  total_rec_int               38577 non-null  float64\n",
      " 36  total_rec_late_fee          38577 non-null  float64\n",
      " 37  recoveries                  38577 non-null  float64\n",
      " 38  collection_recovery_fee     38577 non-null  float64\n",
      " 39  last_pymnt_d                38506 non-null  object \n",
      " 40  last_pymnt_amnt             38577 non-null  float64\n",
      " 41  last_credit_pull_d          38575 non-null  object \n",
      " 42  collections_12_mths_ex_med  38521 non-null  float64\n",
      " 43  policy_code                 38577 non-null  int64  \n",
      " 44  application_type            38577 non-null  object \n",
      " 45  acc_now_delinq              38577 non-null  int64  \n",
      " 46  chargeoff_within_12_mths    38521 non-null  float64\n",
      " 47  pub_rec_bankruptcies        37880 non-null  float64\n",
      "dtypes: float64(17), int64(12), object(19)\n",
      "memory usage: 14.4+ MB\n"
     ]
    }
   ],
   "source": [
    "loan_df.info(verbose = True, show_counts = True)"
   ]
  },
  {
   "cell_type": "code",
   "execution_count": null,
   "id": "d7a6242c",
   "metadata": {},
   "outputs": [],
   "source": []
  }
 ],
 "metadata": {
  "kernelspec": {
   "display_name": "Python 3 (ipykernel)",
   "language": "python",
   "name": "python3"
  },
  "language_info": {
   "codemirror_mode": {
    "name": "ipython",
    "version": 3
   },
   "file_extension": ".py",
   "mimetype": "text/x-python",
   "name": "python",
   "nbconvert_exporter": "python",
   "pygments_lexer": "ipython3",
   "version": "3.10.9"
  }
 },
 "nbformat": 4,
 "nbformat_minor": 5
}
