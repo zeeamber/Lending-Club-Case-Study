{
 "cells": [
  {
   "cell_type": "markdown",
   "id": "7a197889",
   "metadata": {},
   "source": [
    "# Importing python libraries"
   ]
  },
  {
   "cell_type": "code",
   "execution_count": 291,
   "id": "20eaf5e0",
   "metadata": {},
   "outputs": [],
   "source": [
    "import numpy as np\n",
    "import pandas as pd\n",
    "import matplotlib.pyplot as plt\n",
    "import seaborn as sns\n",
    "import datetime as dt\n",
    "import dateutil.parser as dparser"
   ]
  },
  {
   "cell_type": "markdown",
   "id": "edd90118",
   "metadata": {},
   "source": [
    "# Reading dataset"
   ]
  },
  {
   "cell_type": "markdown",
   "id": "6f8293fd",
   "metadata": {},
   "source": [
    "###### Load loan.csv in a dataframe"
   ]
  },
  {
   "cell_type": "code",
   "execution_count": 383,
   "id": "edd09309",
   "metadata": {},
   "outputs": [],
   "source": [
    "# Specify columns which need to be parsed as dates\n",
    "parse_dates = [\"last_pymnt_d\", \"next_pymnt_d\"]"
   ]
  },
  {
   "cell_type": "code",
   "execution_count": 384,
   "id": "7d734e1c",
   "metadata": {},
   "outputs": [],
   "source": [
    "loan_df = pd.read_csv(\"loan.csv\", parse_dates = parse_dates)"
   ]
  },
  {
   "cell_type": "markdown",
   "id": "90a3e372",
   "metadata": {},
   "source": [
    "# Data Overview"
   ]
  },
  {
   "cell_type": "code",
   "execution_count": 385,
   "id": "5b3a24ed",
   "metadata": {},
   "outputs": [
    {
     "name": "stdout",
     "output_type": "stream",
     "text": [
      "Dimention of the original dataset:  (39717, 111)\n",
      "\n",
      "Some records from top and bottom of the dataset: \n"
     ]
    },
    {
     "data": {
      "text/html": [
       "<div>\n",
       "<style scoped>\n",
       "    .dataframe tbody tr th:only-of-type {\n",
       "        vertical-align: middle;\n",
       "    }\n",
       "\n",
       "    .dataframe tbody tr th {\n",
       "        vertical-align: top;\n",
       "    }\n",
       "\n",
       "    .dataframe thead th {\n",
       "        text-align: right;\n",
       "    }\n",
       "</style>\n",
       "<table border=\"1\" class=\"dataframe\">\n",
       "  <thead>\n",
       "    <tr style=\"text-align: right;\">\n",
       "      <th></th>\n",
       "      <th>id</th>\n",
       "      <th>member_id</th>\n",
       "      <th>loan_amnt</th>\n",
       "      <th>funded_amnt</th>\n",
       "      <th>funded_amnt_inv</th>\n",
       "      <th>term</th>\n",
       "      <th>int_rate</th>\n",
       "      <th>installment</th>\n",
       "      <th>grade</th>\n",
       "      <th>sub_grade</th>\n",
       "      <th>...</th>\n",
       "      <th>num_tl_90g_dpd_24m</th>\n",
       "      <th>num_tl_op_past_12m</th>\n",
       "      <th>pct_tl_nvr_dlq</th>\n",
       "      <th>percent_bc_gt_75</th>\n",
       "      <th>pub_rec_bankruptcies</th>\n",
       "      <th>tax_liens</th>\n",
       "      <th>tot_hi_cred_lim</th>\n",
       "      <th>total_bal_ex_mort</th>\n",
       "      <th>total_bc_limit</th>\n",
       "      <th>total_il_high_credit_limit</th>\n",
       "    </tr>\n",
       "  </thead>\n",
       "  <tbody>\n",
       "    <tr>\n",
       "      <th>0</th>\n",
       "      <td>1077501</td>\n",
       "      <td>1296599</td>\n",
       "      <td>5000</td>\n",
       "      <td>5000</td>\n",
       "      <td>4975.0</td>\n",
       "      <td>36 months</td>\n",
       "      <td>10.65%</td>\n",
       "      <td>162.87</td>\n",
       "      <td>B</td>\n",
       "      <td>B2</td>\n",
       "      <td>...</td>\n",
       "      <td>NaN</td>\n",
       "      <td>NaN</td>\n",
       "      <td>NaN</td>\n",
       "      <td>NaN</td>\n",
       "      <td>0.0</td>\n",
       "      <td>0.0</td>\n",
       "      <td>NaN</td>\n",
       "      <td>NaN</td>\n",
       "      <td>NaN</td>\n",
       "      <td>NaN</td>\n",
       "    </tr>\n",
       "    <tr>\n",
       "      <th>1</th>\n",
       "      <td>1077430</td>\n",
       "      <td>1314167</td>\n",
       "      <td>2500</td>\n",
       "      <td>2500</td>\n",
       "      <td>2500.0</td>\n",
       "      <td>60 months</td>\n",
       "      <td>15.27%</td>\n",
       "      <td>59.83</td>\n",
       "      <td>C</td>\n",
       "      <td>C4</td>\n",
       "      <td>...</td>\n",
       "      <td>NaN</td>\n",
       "      <td>NaN</td>\n",
       "      <td>NaN</td>\n",
       "      <td>NaN</td>\n",
       "      <td>0.0</td>\n",
       "      <td>0.0</td>\n",
       "      <td>NaN</td>\n",
       "      <td>NaN</td>\n",
       "      <td>NaN</td>\n",
       "      <td>NaN</td>\n",
       "    </tr>\n",
       "    <tr>\n",
       "      <th>2</th>\n",
       "      <td>1077175</td>\n",
       "      <td>1313524</td>\n",
       "      <td>2400</td>\n",
       "      <td>2400</td>\n",
       "      <td>2400.0</td>\n",
       "      <td>36 months</td>\n",
       "      <td>15.96%</td>\n",
       "      <td>84.33</td>\n",
       "      <td>C</td>\n",
       "      <td>C5</td>\n",
       "      <td>...</td>\n",
       "      <td>NaN</td>\n",
       "      <td>NaN</td>\n",
       "      <td>NaN</td>\n",
       "      <td>NaN</td>\n",
       "      <td>0.0</td>\n",
       "      <td>0.0</td>\n",
       "      <td>NaN</td>\n",
       "      <td>NaN</td>\n",
       "      <td>NaN</td>\n",
       "      <td>NaN</td>\n",
       "    </tr>\n",
       "    <tr>\n",
       "      <th>39714</th>\n",
       "      <td>90395</td>\n",
       "      <td>90390</td>\n",
       "      <td>5000</td>\n",
       "      <td>5000</td>\n",
       "      <td>1325.0</td>\n",
       "      <td>36 months</td>\n",
       "      <td>8.07%</td>\n",
       "      <td>156.84</td>\n",
       "      <td>A</td>\n",
       "      <td>A4</td>\n",
       "      <td>...</td>\n",
       "      <td>NaN</td>\n",
       "      <td>NaN</td>\n",
       "      <td>NaN</td>\n",
       "      <td>NaN</td>\n",
       "      <td>NaN</td>\n",
       "      <td>NaN</td>\n",
       "      <td>NaN</td>\n",
       "      <td>NaN</td>\n",
       "      <td>NaN</td>\n",
       "      <td>NaN</td>\n",
       "    </tr>\n",
       "    <tr>\n",
       "      <th>39715</th>\n",
       "      <td>90376</td>\n",
       "      <td>89243</td>\n",
       "      <td>5000</td>\n",
       "      <td>5000</td>\n",
       "      <td>650.0</td>\n",
       "      <td>36 months</td>\n",
       "      <td>7.43%</td>\n",
       "      <td>155.38</td>\n",
       "      <td>A</td>\n",
       "      <td>A2</td>\n",
       "      <td>...</td>\n",
       "      <td>NaN</td>\n",
       "      <td>NaN</td>\n",
       "      <td>NaN</td>\n",
       "      <td>NaN</td>\n",
       "      <td>NaN</td>\n",
       "      <td>NaN</td>\n",
       "      <td>NaN</td>\n",
       "      <td>NaN</td>\n",
       "      <td>NaN</td>\n",
       "      <td>NaN</td>\n",
       "    </tr>\n",
       "    <tr>\n",
       "      <th>39716</th>\n",
       "      <td>87023</td>\n",
       "      <td>86999</td>\n",
       "      <td>7500</td>\n",
       "      <td>7500</td>\n",
       "      <td>800.0</td>\n",
       "      <td>36 months</td>\n",
       "      <td>13.75%</td>\n",
       "      <td>255.43</td>\n",
       "      <td>E</td>\n",
       "      <td>E2</td>\n",
       "      <td>...</td>\n",
       "      <td>NaN</td>\n",
       "      <td>NaN</td>\n",
       "      <td>NaN</td>\n",
       "      <td>NaN</td>\n",
       "      <td>NaN</td>\n",
       "      <td>NaN</td>\n",
       "      <td>NaN</td>\n",
       "      <td>NaN</td>\n",
       "      <td>NaN</td>\n",
       "      <td>NaN</td>\n",
       "    </tr>\n",
       "  </tbody>\n",
       "</table>\n",
       "<p>6 rows × 111 columns</p>\n",
       "</div>"
      ],
      "text/plain": [
       "            id  member_id  loan_amnt  funded_amnt  funded_amnt_inv  \\\n",
       "0      1077501    1296599       5000         5000           4975.0   \n",
       "1      1077430    1314167       2500         2500           2500.0   \n",
       "2      1077175    1313524       2400         2400           2400.0   \n",
       "39714    90395      90390       5000         5000           1325.0   \n",
       "39715    90376      89243       5000         5000            650.0   \n",
       "39716    87023      86999       7500         7500            800.0   \n",
       "\n",
       "             term int_rate  installment grade sub_grade  ...  \\\n",
       "0       36 months   10.65%       162.87     B        B2  ...   \n",
       "1       60 months   15.27%        59.83     C        C4  ...   \n",
       "2       36 months   15.96%        84.33     C        C5  ...   \n",
       "39714   36 months    8.07%       156.84     A        A4  ...   \n",
       "39715   36 months    7.43%       155.38     A        A2  ...   \n",
       "39716   36 months   13.75%       255.43     E        E2  ...   \n",
       "\n",
       "      num_tl_90g_dpd_24m num_tl_op_past_12m pct_tl_nvr_dlq  percent_bc_gt_75  \\\n",
       "0                    NaN                NaN            NaN               NaN   \n",
       "1                    NaN                NaN            NaN               NaN   \n",
       "2                    NaN                NaN            NaN               NaN   \n",
       "39714                NaN                NaN            NaN               NaN   \n",
       "39715                NaN                NaN            NaN               NaN   \n",
       "39716                NaN                NaN            NaN               NaN   \n",
       "\n",
       "      pub_rec_bankruptcies tax_liens tot_hi_cred_lim total_bal_ex_mort  \\\n",
       "0                      0.0       0.0             NaN               NaN   \n",
       "1                      0.0       0.0             NaN               NaN   \n",
       "2                      0.0       0.0             NaN               NaN   \n",
       "39714                  NaN       NaN             NaN               NaN   \n",
       "39715                  NaN       NaN             NaN               NaN   \n",
       "39716                  NaN       NaN             NaN               NaN   \n",
       "\n",
       "      total_bc_limit total_il_high_credit_limit  \n",
       "0                NaN                        NaN  \n",
       "1                NaN                        NaN  \n",
       "2                NaN                        NaN  \n",
       "39714            NaN                        NaN  \n",
       "39715            NaN                        NaN  \n",
       "39716            NaN                        NaN  \n",
       "\n",
       "[6 rows x 111 columns]"
      ]
     },
     "execution_count": 385,
     "metadata": {},
     "output_type": "execute_result"
    }
   ],
   "source": [
    "print(\"Dimention of the original dataset: \", loan_df.shape)\n",
    "print(\"\\nSome records from top and bottom of the dataset: \")\n",
    "pd.concat([loan_df.head(3), loan_df.tail(3)])"
   ]
  },
  {
   "cell_type": "markdown",
   "id": "dcc67f57",
   "metadata": {},
   "source": [
    "So our dataset is huge with **111 features** and **39717 records**."
   ]
  },
  {
   "cell_type": "code",
   "execution_count": 386,
   "id": "d2257264",
   "metadata": {},
   "outputs": [
    {
     "name": "stdout",
     "output_type": "stream",
     "text": [
      "Datatypes used: \n"
     ]
    },
    {
     "data": {
      "text/plain": [
       "float64    74\n",
       "object     24\n",
       "int64      13\n",
       "dtype: int64"
      ]
     },
     "execution_count": 386,
     "metadata": {},
     "output_type": "execute_result"
    }
   ],
   "source": [
    "print(\"Datatypes used: \")\n",
    "pd.value_counts(loan_df.dtypes)"
   ]
  },
  {
   "cell_type": "markdown",
   "id": "1137fbbc",
   "metadata": {},
   "source": [
    "Above data shows the count of columns grouped by datatypes"
   ]
  },
  {
   "cell_type": "code",
   "execution_count": 387,
   "id": "afd2e196",
   "metadata": {},
   "outputs": [
    {
     "name": "stdout",
     "output_type": "stream",
     "text": [
      "Detailed information about individual column's datatype and count of non-null values present in them:\n",
      "\n",
      "<class 'pandas.core.frame.DataFrame'>\n",
      "RangeIndex: 39717 entries, 0 to 39716\n",
      "Data columns (total 111 columns):\n",
      " #    Column                          Non-Null Count  Dtype  \n",
      "---   ------                          --------------  -----  \n",
      " 0    id                              39717 non-null  int64  \n",
      " 1    member_id                       39717 non-null  int64  \n",
      " 2    loan_amnt                       39717 non-null  int64  \n",
      " 3    funded_amnt                     39717 non-null  int64  \n",
      " 4    funded_amnt_inv                 39717 non-null  float64\n",
      " 5    term                            39717 non-null  object \n",
      " 6    int_rate                        39717 non-null  object \n",
      " 7    installment                     39717 non-null  float64\n",
      " 8    grade                           39717 non-null  object \n",
      " 9    sub_grade                       39717 non-null  object \n",
      " 10   emp_title                       37258 non-null  object \n",
      " 11   emp_length                      38642 non-null  object \n",
      " 12   home_ownership                  39717 non-null  object \n",
      " 13   annual_inc                      39717 non-null  float64\n",
      " 14   verification_status             39717 non-null  object \n",
      " 15   issue_d                         39717 non-null  object \n",
      " 16   loan_status                     39717 non-null  object \n",
      " 17   pymnt_plan                      39717 non-null  object \n",
      " 18   url                             39717 non-null  object \n",
      " 19   desc                            26777 non-null  object \n",
      " 20   purpose                         39717 non-null  object \n",
      " 21   title                           39706 non-null  object \n",
      " 22   zip_code                        39717 non-null  object \n",
      " 23   addr_state                      39717 non-null  object \n",
      " 24   dti                             39717 non-null  float64\n",
      " 25   delinq_2yrs                     39717 non-null  int64  \n",
      " 26   earliest_cr_line                39717 non-null  object \n",
      " 27   inq_last_6mths                  39717 non-null  int64  \n",
      " 28   mths_since_last_delinq          14035 non-null  float64\n",
      " 29   mths_since_last_record          2786 non-null   float64\n",
      " 30   open_acc                        39717 non-null  int64  \n",
      " 31   pub_rec                         39717 non-null  int64  \n",
      " 32   revol_bal                       39717 non-null  int64  \n",
      " 33   revol_util                      39667 non-null  object \n",
      " 34   total_acc                       39717 non-null  int64  \n",
      " 35   initial_list_status             39717 non-null  object \n",
      " 36   out_prncp                       39717 non-null  float64\n",
      " 37   out_prncp_inv                   39717 non-null  float64\n",
      " 38   total_pymnt                     39717 non-null  float64\n",
      " 39   total_pymnt_inv                 39717 non-null  float64\n",
      " 40   total_rec_prncp                 39717 non-null  float64\n",
      " 41   total_rec_int                   39717 non-null  float64\n",
      " 42   total_rec_late_fee              39717 non-null  float64\n",
      " 43   recoveries                      39717 non-null  float64\n",
      " 44   collection_recovery_fee         39717 non-null  float64\n",
      " 45   last_pymnt_d                    39646 non-null  object \n",
      " 46   last_pymnt_amnt                 39717 non-null  float64\n",
      " 47   next_pymnt_d                    1140 non-null   object \n",
      " 48   last_credit_pull_d              39715 non-null  object \n",
      " 49   collections_12_mths_ex_med      39661 non-null  float64\n",
      " 50   mths_since_last_major_derog     0 non-null      float64\n",
      " 51   policy_code                     39717 non-null  int64  \n",
      " 52   application_type                39717 non-null  object \n",
      " 53   annual_inc_joint                0 non-null      float64\n",
      " 54   dti_joint                       0 non-null      float64\n",
      " 55   verification_status_joint       0 non-null      float64\n",
      " 56   acc_now_delinq                  39717 non-null  int64  \n",
      " 57   tot_coll_amt                    0 non-null      float64\n",
      " 58   tot_cur_bal                     0 non-null      float64\n",
      " 59   open_acc_6m                     0 non-null      float64\n",
      " 60   open_il_6m                      0 non-null      float64\n",
      " 61   open_il_12m                     0 non-null      float64\n",
      " 62   open_il_24m                     0 non-null      float64\n",
      " 63   mths_since_rcnt_il              0 non-null      float64\n",
      " 64   total_bal_il                    0 non-null      float64\n",
      " 65   il_util                         0 non-null      float64\n",
      " 66   open_rv_12m                     0 non-null      float64\n",
      " 67   open_rv_24m                     0 non-null      float64\n",
      " 68   max_bal_bc                      0 non-null      float64\n",
      " 69   all_util                        0 non-null      float64\n",
      " 70   total_rev_hi_lim                0 non-null      float64\n",
      " 71   inq_fi                          0 non-null      float64\n",
      " 72   total_cu_tl                     0 non-null      float64\n",
      " 73   inq_last_12m                    0 non-null      float64\n",
      " 74   acc_open_past_24mths            0 non-null      float64\n",
      " 75   avg_cur_bal                     0 non-null      float64\n",
      " 76   bc_open_to_buy                  0 non-null      float64\n",
      " 77   bc_util                         0 non-null      float64\n",
      " 78   chargeoff_within_12_mths        39661 non-null  float64\n",
      " 79   delinq_amnt                     39717 non-null  int64  \n",
      " 80   mo_sin_old_il_acct              0 non-null      float64\n",
      " 81   mo_sin_old_rev_tl_op            0 non-null      float64\n",
      " 82   mo_sin_rcnt_rev_tl_op           0 non-null      float64\n",
      " 83   mo_sin_rcnt_tl                  0 non-null      float64\n",
      " 84   mort_acc                        0 non-null      float64\n",
      " 85   mths_since_recent_bc            0 non-null      float64\n",
      " 86   mths_since_recent_bc_dlq        0 non-null      float64\n",
      " 87   mths_since_recent_inq           0 non-null      float64\n",
      " 88   mths_since_recent_revol_delinq  0 non-null      float64\n",
      " 89   num_accts_ever_120_pd           0 non-null      float64\n",
      " 90   num_actv_bc_tl                  0 non-null      float64\n",
      " 91   num_actv_rev_tl                 0 non-null      float64\n",
      " 92   num_bc_sats                     0 non-null      float64\n",
      " 93   num_bc_tl                       0 non-null      float64\n",
      " 94   num_il_tl                       0 non-null      float64\n",
      " 95   num_op_rev_tl                   0 non-null      float64\n",
      " 96   num_rev_accts                   0 non-null      float64\n",
      " 97   num_rev_tl_bal_gt_0             0 non-null      float64\n",
      " 98   num_sats                        0 non-null      float64\n",
      " 99   num_tl_120dpd_2m                0 non-null      float64\n",
      " 100  num_tl_30dpd                    0 non-null      float64\n",
      " 101  num_tl_90g_dpd_24m              0 non-null      float64\n",
      " 102  num_tl_op_past_12m              0 non-null      float64\n",
      " 103  pct_tl_nvr_dlq                  0 non-null      float64\n",
      " 104  percent_bc_gt_75                0 non-null      float64\n",
      " 105  pub_rec_bankruptcies            39020 non-null  float64\n",
      " 106  tax_liens                       39678 non-null  float64\n",
      " 107  tot_hi_cred_lim                 0 non-null      float64\n",
      " 108  total_bal_ex_mort               0 non-null      float64\n",
      " 109  total_bc_limit                  0 non-null      float64\n",
      " 110  total_il_high_credit_limit      0 non-null      float64\n",
      "dtypes: float64(74), int64(13), object(24)\n",
      "memory usage: 33.6+ MB\n"
     ]
    }
   ],
   "source": [
    "print(\"Detailed information about individual column's datatype and count of non-null values present in them:\\n\")\n",
    "loan_df.info(verbose = True, show_counts = True)"
   ]
  },
  {
   "cell_type": "markdown",
   "id": "63b907db",
   "metadata": {},
   "source": [
    "We have got some basic information about our dataset -\n",
    "- Dimention\n",
    "- Column names\n",
    "- Datatypes\n",
    "- Non-null counts for every column\n",
    "\n",
    "We have seen that this dataset has too many features, now we will filter out some of the features which are not important so that we can focus on features which can derive most meaningful results."
   ]
  },
  {
   "cell_type": "markdown",
   "id": "ecc6889e",
   "metadata": {},
   "source": [
    "# Data cleaning"
   ]
  },
  {
   "cell_type": "code",
   "execution_count": 388,
   "id": "d5f6e0e2",
   "metadata": {},
   "outputs": [
    {
     "name": "stdout",
     "output_type": "stream",
     "text": [
      "id column an identifier: True\n",
      "member_id column an identifier: True\n"
     ]
    }
   ],
   "source": [
    "# Verifying if id and member_id columns are just identifiers\n",
    "print(\"id column an identifier: \" + str(loan_df[\"id\"].is_unique))\n",
    "print(\"member_id column an identifier: \" + str(loan_df[\"member_id\"].is_unique))"
   ]
  },
  {
   "cell_type": "markdown",
   "id": "3a572419",
   "metadata": {},
   "source": [
    "We can drop columns id and member_id as each values for them are unique so they are just identifiers"
   ]
  },
  {
   "cell_type": "code",
   "execution_count": 389,
   "id": "5f66e53c",
   "metadata": {},
   "outputs": [],
   "source": [
    "columns_to_drop = [\"id\", \"member_id\"]"
   ]
  },
  {
   "cell_type": "markdown",
   "id": "cfcc9b9a",
   "metadata": {},
   "source": [
    "\n",
    "<b>We can also drop below columns based on the respective observations -</b>\n",
    "<ul>\n",
    "    <li><b>url</b>: it is essenatially derived from id and hence is unique for each records</li>\n",
    "    <li><b>desc</b>: we can't extract much information from this loan description column</li>\n",
    "    <li><b>emp_title</b>: seems to be just some company names from the customers records</li>\n",
    "    <li><b>zip_code</b>: it's a masked data</li>\n",
    "    <li><b>title</b>: loan title provided by borrower are very random and can't add any value to EDA</li>\n",
    "    <li>customer behaviour variables can be ignored as they are not available during the loan application\n",
    "        <ul>\n",
    "            <li><b>delinq_2yrs</b></li>\n",
    "            <li><b>earliest_cr_line</b></li>\n",
    "            <li><b>inq_last_6mths</b></li>\n",
    "            <li><b>open_acc</b></li>\n",
    "            <li><b>pub_rec</b></li>\n",
    "            <li><b>revol_bal</b></li>\n",
    "            <li><b>revol_util</b></li>\n",
    "            <li><b>total_acc</b></li>\n",
    "            <li><b>out_prncp</b></li>\n",
    "            <li><b>out_prncp_inv</b></li>\n",
    "            <li><b>total_pymnt</b></li>\n",
    "            <li><b>total_pymnt_inv</b></li>\n",
    "            <li><b>total_rec_prncp</b></li>\n",
    "            <li><b>total_rec_int</b></li>\n",
    "            <li><b>total_rec_late_fee</b></li>\n",
    "            <li><b>recoveries</b></li>\n",
    "            <li><b>collection_recovery_fee</b></li>\n",
    "            <li><b>last_pymnt_d</b></li>\n",
    "            <li><b>last_pymnt_amnt</b></li>\n",
    "            <li><b>last_credit_pull_d</b></li>\n",
    "            <li><b>application_type</b></li>\n",
    "        </ul>\n",
    "    </li>\n",
    "</ul>\n",
    "    "
   ]
  },
  {
   "cell_type": "code",
   "execution_count": 390,
   "id": "314e7050",
   "metadata": {},
   "outputs": [],
   "source": [
    "columns_to_drop.extend([\"url\", \"desc\", \"emp_title\", \"zip_code\", \"title\", \"delinq_2yrs\", \"earliest_cr_line\", \"inq_last_6mths\", \"open_acc\", \"pub_rec\", \"revol_bal\", \"revol_util\", \"total_acc\", \"out_prncp\", \"out_prncp_inv\", \"total_pymnt\", \"total_pymnt_inv\", \"total_rec_prncp\", \"total_rec_int\", \"total_rec_late_fee\", \"recoveries\", \"collection_recovery_fee\", \"last_pymnt_d\", \"last_pymnt_amnt\", \"last_credit_pull_d\", \"application_type\"])"
   ]
  },
  {
   "cell_type": "code",
   "execution_count": 391,
   "id": "176b2906",
   "metadata": {},
   "outputs": [
    {
     "name": "stdout",
     "output_type": "stream",
     "text": [
      "Dropping off 28 columns from dataframe...\n",
      "Dimention of the new dataset:  (39717, 83)\n"
     ]
    }
   ],
   "source": [
    "print(\"Dropping off\", len(columns_to_drop), \"columns from dataframe...\")\n",
    "loan_df.drop(columns = columns_to_drop, inplace = True)\n",
    "print(\"Dimention of the new dataset: \", loan_df.shape)"
   ]
  },
  {
   "cell_type": "markdown",
   "id": "ef3943b0",
   "metadata": {},
   "source": [
    "### Inspecting columns with all null values"
   ]
  },
  {
   "cell_type": "code",
   "execution_count": 392,
   "id": "047417c3",
   "metadata": {},
   "outputs": [
    {
     "name": "stdout",
     "output_type": "stream",
     "text": [
      "These are the columns having all null values:\n"
     ]
    },
    {
     "data": {
      "text/plain": [
       "['mths_since_last_major_derog',\n",
       " 'annual_inc_joint',\n",
       " 'dti_joint',\n",
       " 'verification_status_joint',\n",
       " 'tot_coll_amt',\n",
       " 'tot_cur_bal',\n",
       " 'open_acc_6m',\n",
       " 'open_il_6m',\n",
       " 'open_il_12m',\n",
       " 'open_il_24m',\n",
       " 'mths_since_rcnt_il',\n",
       " 'total_bal_il',\n",
       " 'il_util',\n",
       " 'open_rv_12m',\n",
       " 'open_rv_24m',\n",
       " 'max_bal_bc',\n",
       " 'all_util',\n",
       " 'total_rev_hi_lim',\n",
       " 'inq_fi',\n",
       " 'total_cu_tl',\n",
       " 'inq_last_12m',\n",
       " 'acc_open_past_24mths',\n",
       " 'avg_cur_bal',\n",
       " 'bc_open_to_buy',\n",
       " 'bc_util',\n",
       " 'mo_sin_old_il_acct',\n",
       " 'mo_sin_old_rev_tl_op',\n",
       " 'mo_sin_rcnt_rev_tl_op',\n",
       " 'mo_sin_rcnt_tl',\n",
       " 'mort_acc',\n",
       " 'mths_since_recent_bc',\n",
       " 'mths_since_recent_bc_dlq',\n",
       " 'mths_since_recent_inq',\n",
       " 'mths_since_recent_revol_delinq',\n",
       " 'num_accts_ever_120_pd',\n",
       " 'num_actv_bc_tl',\n",
       " 'num_actv_rev_tl',\n",
       " 'num_bc_sats',\n",
       " 'num_bc_tl',\n",
       " 'num_il_tl',\n",
       " 'num_op_rev_tl',\n",
       " 'num_rev_accts',\n",
       " 'num_rev_tl_bal_gt_0',\n",
       " 'num_sats',\n",
       " 'num_tl_120dpd_2m',\n",
       " 'num_tl_30dpd',\n",
       " 'num_tl_90g_dpd_24m',\n",
       " 'num_tl_op_past_12m',\n",
       " 'pct_tl_nvr_dlq',\n",
       " 'percent_bc_gt_75',\n",
       " 'tot_hi_cred_lim',\n",
       " 'total_bal_ex_mort',\n",
       " 'total_bc_limit',\n",
       " 'total_il_high_credit_limit']"
      ]
     },
     "execution_count": 392,
     "metadata": {},
     "output_type": "execute_result"
    }
   ],
   "source": [
    "columns_with_no_data = loan_df.columns[loan_df.isnull().all()].to_list()\n",
    "print(\"These are the columns having all null values:\")\n",
    "columns_with_no_data"
   ]
  },
  {
   "cell_type": "code",
   "execution_count": 393,
   "id": "5c9c99ed",
   "metadata": {},
   "outputs": [
    {
     "name": "stdout",
     "output_type": "stream",
     "text": [
      "Removing 54 columns having 0 non-null values...\n",
      "Dimention of the new dataset:  (39717, 29)\n"
     ]
    }
   ],
   "source": [
    "print(\"Removing\", len(columns_with_no_data), \"columns having 0 non-null values...\")\n",
    "loan_df.drop(columns = columns_with_no_data, inplace = True)\n",
    "print(\"Dimention of the new dataset: \", loan_df.shape)"
   ]
  },
  {
   "cell_type": "markdown",
   "id": "c73fc2c8",
   "metadata": {},
   "source": [
    "### Analysing missing values"
   ]
  },
  {
   "cell_type": "code",
   "execution_count": 394,
   "id": "258c2627",
   "metadata": {},
   "outputs": [
    {
     "name": "stdout",
     "output_type": "stream",
     "text": [
      "Missing values percentage in each column:\n"
     ]
    },
    {
     "data": {
      "text/plain": [
       "loan_amnt                      0.0\n",
       "funded_amnt                    0.0\n",
       "funded_amnt_inv                0.0\n",
       "term                           0.0\n",
       "int_rate                       0.0\n",
       "installment                    0.0\n",
       "grade                          0.0\n",
       "sub_grade                      0.0\n",
       "emp_length                     2.7\n",
       "home_ownership                 0.0\n",
       "annual_inc                     0.0\n",
       "verification_status            0.0\n",
       "issue_d                        0.0\n",
       "loan_status                    0.0\n",
       "pymnt_plan                     0.0\n",
       "purpose                        0.0\n",
       "addr_state                     0.0\n",
       "dti                            0.0\n",
       "mths_since_last_delinq        64.7\n",
       "mths_since_last_record        93.0\n",
       "initial_list_status            0.0\n",
       "next_pymnt_d                  97.1\n",
       "collections_12_mths_ex_med     0.1\n",
       "policy_code                    0.0\n",
       "acc_now_delinq                 0.0\n",
       "chargeoff_within_12_mths       0.1\n",
       "delinq_amnt                    0.0\n",
       "pub_rec_bankruptcies           1.8\n",
       "tax_liens                      0.1\n",
       "dtype: float64"
      ]
     },
     "execution_count": 394,
     "metadata": {},
     "output_type": "execute_result"
    }
   ],
   "source": [
    "print(\"Missing values percentage in each column:\")\n",
    "round(loan_df.isnull().sum() / loan_df.shape[0], 3) * 100"
   ]
  },
  {
   "cell_type": "markdown",
   "id": "3864e49d",
   "metadata": {},
   "source": [
    "Missing values percentage is varying from 0 to 97% across the columns.\n",
    "Let's drop any column having more than 30% missing values"
   ]
  },
  {
   "cell_type": "code",
   "execution_count": 395,
   "id": "4a185deb",
   "metadata": {},
   "outputs": [
    {
     "name": "stdout",
     "output_type": "stream",
     "text": [
      "No. of such columns are: 3\n",
      "['mths_since_last_delinq', 'mths_since_last_record', 'next_pymnt_d']\n"
     ]
    }
   ],
   "source": [
    "columns_with_highers_null_values = loan_df.columns[100*(loan_df.isnull().sum() / loan_df.shape[0]) > 30]\n",
    "print(\"No. of such columns are:\", len(columns_with_highers_null_values))\n",
    "print(columns_with_highers_null_values.to_list())"
   ]
  },
  {
   "cell_type": "code",
   "execution_count": 396,
   "id": "78e9092a",
   "metadata": {},
   "outputs": [
    {
     "name": "stdout",
     "output_type": "stream",
     "text": [
      "Dimention of the new dataset:  (39717, 26)\n"
     ]
    }
   ],
   "source": [
    "# Droping columns with more that 30% missing values\n",
    "loan_df.drop(columns = columns_with_highers_null_values, inplace = True)\n",
    "print(\"Dimention of the new dataset: \", loan_df.shape)"
   ]
  },
  {
   "cell_type": "markdown",
   "id": "5964bad0",
   "metadata": {},
   "source": [
    "#### Analysing columns tax_liens and delinq_amnt because all values are either null or 0"
   ]
  },
  {
   "cell_type": "code",
   "execution_count": 397,
   "id": "ef9a1c5f",
   "metadata": {},
   "outputs": [
    {
     "name": "stdout",
     "output_type": "stream",
     "text": [
      "Values in tax_liens - \n"
     ]
    },
    {
     "data": {
      "text/plain": [
       "0.0    39678\n",
       "Name: tax_liens, dtype: int64"
      ]
     },
     "execution_count": 397,
     "metadata": {},
     "output_type": "execute_result"
    }
   ],
   "source": [
    "print(\"Values in tax_liens - \")\n",
    "loan_df[\"tax_liens\"].value_counts()"
   ]
  },
  {
   "cell_type": "code",
   "execution_count": 398,
   "id": "20e2f82b",
   "metadata": {},
   "outputs": [
    {
     "name": "stdout",
     "output_type": "stream",
     "text": [
      "Values in delinq_amnt - \n"
     ]
    },
    {
     "data": {
      "text/plain": [
       "0    39717\n",
       "Name: delinq_amnt, dtype: int64"
      ]
     },
     "execution_count": 398,
     "metadata": {},
     "output_type": "execute_result"
    }
   ],
   "source": [
    "print(\"Values in delinq_amnt - \")\n",
    "loan_df[\"delinq_amnt\"].value_counts()"
   ]
  },
  {
   "cell_type": "code",
   "execution_count": 399,
   "id": "574f4d76",
   "metadata": {},
   "outputs": [
    {
     "name": "stdout",
     "output_type": "stream",
     "text": [
      "Dimention of the new dataset:  (39717, 24)\n"
     ]
    }
   ],
   "source": [
    "# Dropping tax_liens and delinq_amnt columns as they contain only zeros\n",
    "loan_df.drop(columns = [\"tax_liens\", \"delinq_amnt\"], inplace = True)\n",
    "print(\"Dimention of the new dataset: \", loan_df.shape)"
   ]
  },
  {
   "cell_type": "markdown",
   "id": "563a7c68",
   "metadata": {},
   "source": [
    "#### Analysing loan_status column"
   ]
  },
  {
   "cell_type": "code",
   "execution_count": 400,
   "id": "0dc3f623",
   "metadata": {},
   "outputs": [
    {
     "data": {
      "text/plain": [
       "Fully Paid     32950\n",
       "Charged Off     5627\n",
       "Current         1140\n",
       "Name: loan_status, dtype: int64"
      ]
     },
     "execution_count": 400,
     "metadata": {},
     "output_type": "execute_result"
    }
   ],
   "source": [
    "loan_df[\"loan_status\"].value_counts()"
   ]
  },
  {
   "cell_type": "markdown",
   "id": "2510d8ed",
   "metadata": {},
   "source": [
    "We can dropoff \"Current\" loan_status from the dataset because we can not do a prescriptive analysis on the ongoing loans"
   ]
  },
  {
   "cell_type": "code",
   "execution_count": 401,
   "id": "76f4b204",
   "metadata": {},
   "outputs": [
    {
     "name": "stdout",
     "output_type": "stream",
     "text": [
      "Dimention of the new dataset:  (38577, 24)\n"
     ]
    }
   ],
   "source": [
    "loan_df = loan_df[~(loan_df[\"loan_status\"] == \"Current\")]\n",
    "# Now loan_status will have two possible values \"Fully Paid\" and \"Charged Off\"\n",
    "# Let's convert these values to 1 and 0 respectively in the interest of simiplicity\n",
    "loan_df[\"loan_status\"] = loan_df[\"loan_status\"].apply(lambda x: 1 if x == \"Fully Paid\" else 0)\n",
    "print(\"Dimention of the new dataset: \", loan_df.shape)"
   ]
  },
  {
   "cell_type": "markdown",
   "id": "f67443bb",
   "metadata": {},
   "source": [
    "#### Analysing initial_list_status column"
   ]
  },
  {
   "cell_type": "code",
   "execution_count": 402,
   "id": "3b662950",
   "metadata": {},
   "outputs": [
    {
     "data": {
      "text/plain": [
       "f    38577\n",
       "Name: initial_list_status, dtype: int64"
      ]
     },
     "execution_count": 402,
     "metadata": {},
     "output_type": "execute_result"
    }
   ],
   "source": [
    "loan_df[\"initial_list_status\"].value_counts()"
   ]
  },
  {
   "cell_type": "markdown",
   "id": "5d09580d",
   "metadata": {},
   "source": [
    "initial_list_status has only one value \"f\" for all records. We can drop off this column from EDA perspective."
   ]
  },
  {
   "cell_type": "code",
   "execution_count": 403,
   "id": "cd5e22a9",
   "metadata": {},
   "outputs": [
    {
     "name": "stdout",
     "output_type": "stream",
     "text": [
      "Dimention of the new dataset:  (38577, 23)\n"
     ]
    }
   ],
   "source": [
    "loan_df.drop(\"initial_list_status\", axis = 1, inplace = True)\n",
    "print(\"Dimention of the new dataset: \", loan_df.shape)"
   ]
  },
  {
   "cell_type": "markdown",
   "id": "f706d94e",
   "metadata": {},
   "source": [
    "#### Analysing policy_code column"
   ]
  },
  {
   "cell_type": "code",
   "execution_count": 404,
   "id": "b58969d2",
   "metadata": {},
   "outputs": [
    {
     "data": {
      "text/plain": [
       "1    38577\n",
       "Name: policy_code, dtype: int64"
      ]
     },
     "execution_count": 404,
     "metadata": {},
     "output_type": "execute_result"
    }
   ],
   "source": [
    "loan_df[\"policy_code\"].value_counts()"
   ]
  },
  {
   "cell_type": "code",
   "execution_count": 405,
   "id": "83557555",
   "metadata": {},
   "outputs": [
    {
     "name": "stdout",
     "output_type": "stream",
     "text": [
      "Dimention of the new dataset:  (38577, 22)\n"
     ]
    }
   ],
   "source": [
    "# Drop policy_code column as it has only one value \"1\" across the records\n",
    "loan_df.drop(\"policy_code\", axis = 1, inplace = True)\n",
    "print(\"Dimention of the new dataset: \", loan_df.shape)"
   ]
  },
  {
   "cell_type": "markdown",
   "id": "0974916e",
   "metadata": {},
   "source": [
    "#### Analysing pymnt_plan column"
   ]
  },
  {
   "cell_type": "code",
   "execution_count": 406,
   "id": "aa897b12",
   "metadata": {},
   "outputs": [
    {
     "data": {
      "text/plain": [
       "n    38577\n",
       "Name: pymnt_plan, dtype: int64"
      ]
     },
     "execution_count": 406,
     "metadata": {},
     "output_type": "execute_result"
    }
   ],
   "source": [
    "loan_df[\"pymnt_plan\"].value_counts()"
   ]
  },
  {
   "cell_type": "code",
   "execution_count": 407,
   "id": "a851c2ae",
   "metadata": {},
   "outputs": [
    {
     "name": "stdout",
     "output_type": "stream",
     "text": [
      "Dimention of the new dataset:  (38577, 21)\n"
     ]
    }
   ],
   "source": [
    "# Drop pymnt_plan column as it has only one value \"n\" across the records\n",
    "loan_df.drop(\"pymnt_plan\", axis = 1, inplace = True)\n",
    "print(\"Dimention of the new dataset: \", loan_df.shape)"
   ]
  },
  {
   "cell_type": "markdown",
   "id": "e25f66d2",
   "metadata": {},
   "source": [
    "#### Analysing collections_12_mths_ex_med column"
   ]
  },
  {
   "cell_type": "code",
   "execution_count": 408,
   "id": "af6870d5",
   "metadata": {},
   "outputs": [
    {
     "data": {
      "text/plain": [
       "0.0    38521\n",
       "Name: collections_12_mths_ex_med, dtype: int64"
      ]
     },
     "execution_count": 408,
     "metadata": {},
     "output_type": "execute_result"
    }
   ],
   "source": [
    "loan_df[\"collections_12_mths_ex_med\"].value_counts()"
   ]
  },
  {
   "cell_type": "code",
   "execution_count": 409,
   "id": "baa2de49",
   "metadata": {},
   "outputs": [
    {
     "name": "stdout",
     "output_type": "stream",
     "text": [
      "Dimention of the new dataset:  (38577, 20)\n"
     ]
    }
   ],
   "source": [
    "# Drop collections_12_mths_ex_med column as it is either 0 or null across the records\n",
    "loan_df.drop(\"collections_12_mths_ex_med\", axis = 1, inplace = True)\n",
    "print(\"Dimention of the new dataset: \", loan_df.shape)"
   ]
  },
  {
   "cell_type": "markdown",
   "id": "449043fa",
   "metadata": {},
   "source": [
    "#### Analysing acc_now_delinq column"
   ]
  },
  {
   "cell_type": "code",
   "execution_count": 410,
   "id": "15941836",
   "metadata": {},
   "outputs": [
    {
     "data": {
      "text/plain": [
       "0    38577\n",
       "Name: acc_now_delinq, dtype: int64"
      ]
     },
     "execution_count": 410,
     "metadata": {},
     "output_type": "execute_result"
    }
   ],
   "source": [
    "loan_df[\"acc_now_delinq\"].value_counts()"
   ]
  },
  {
   "cell_type": "code",
   "execution_count": 411,
   "id": "3ff91bda",
   "metadata": {},
   "outputs": [
    {
     "name": "stdout",
     "output_type": "stream",
     "text": [
      "Dimention of the new dataset:  (38577, 19)\n"
     ]
    }
   ],
   "source": [
    "# Drop acc_now_delinq column as it has only one value \"0\" across the records\n",
    "loan_df.drop(\"acc_now_delinq\", axis = 1, inplace = True)\n",
    "print(\"Dimention of the new dataset: \", loan_df.shape)"
   ]
  },
  {
   "cell_type": "markdown",
   "id": "08c5aec9",
   "metadata": {},
   "source": [
    "#### Analysing chargeoff_within_12_mths column"
   ]
  },
  {
   "cell_type": "code",
   "execution_count": 412,
   "id": "2f322334",
   "metadata": {},
   "outputs": [
    {
     "data": {
      "text/plain": [
       "0.0    38521\n",
       "Name: chargeoff_within_12_mths, dtype: int64"
      ]
     },
     "execution_count": 412,
     "metadata": {},
     "output_type": "execute_result"
    }
   ],
   "source": [
    "loan_df[\"chargeoff_within_12_mths\"].value_counts()"
   ]
  },
  {
   "cell_type": "code",
   "execution_count": 413,
   "id": "0196cf1d",
   "metadata": {},
   "outputs": [
    {
     "name": "stdout",
     "output_type": "stream",
     "text": [
      "Dimention of the new dataset:  (38577, 18)\n"
     ]
    }
   ],
   "source": [
    "# Drop chargeoff_within_12_mths column as it is either 0 or null across the records\n",
    "loan_df.drop(\"chargeoff_within_12_mths\", axis = 1, inplace = True)\n",
    "print(\"Dimention of the new dataset: \", loan_df.shape)"
   ]
  },
  {
   "cell_type": "markdown",
   "id": "22baedc9",
   "metadata": {},
   "source": [
    "#### Duplicate data inspection"
   ]
  },
  {
   "cell_type": "code",
   "execution_count": 414,
   "id": "1975c029",
   "metadata": {},
   "outputs": [
    {
     "data": {
      "text/plain": [
       "False"
      ]
     },
     "execution_count": 414,
     "metadata": {},
     "output_type": "execute_result"
    }
   ],
   "source": [
    "loan_df.duplicated().any()"
   ]
  },
  {
   "cell_type": "code",
   "execution_count": 415,
   "id": "64d982cb",
   "metadata": {},
   "outputs": [
    {
     "name": "stdout",
     "output_type": "stream",
     "text": [
      "<class 'pandas.core.frame.DataFrame'>\n",
      "Int64Index: 38577 entries, 0 to 39716\n",
      "Data columns (total 18 columns):\n",
      " #   Column                Non-Null Count  Dtype  \n",
      "---  ------                --------------  -----  \n",
      " 0   loan_amnt             38577 non-null  int64  \n",
      " 1   funded_amnt           38577 non-null  int64  \n",
      " 2   funded_amnt_inv       38577 non-null  float64\n",
      " 3   term                  38577 non-null  object \n",
      " 4   int_rate              38577 non-null  object \n",
      " 5   installment           38577 non-null  float64\n",
      " 6   grade                 38577 non-null  object \n",
      " 7   sub_grade             38577 non-null  object \n",
      " 8   emp_length            37544 non-null  object \n",
      " 9   home_ownership        38577 non-null  object \n",
      " 10  annual_inc            38577 non-null  float64\n",
      " 11  verification_status   38577 non-null  object \n",
      " 12  issue_d               38577 non-null  object \n",
      " 13  loan_status           38577 non-null  int64  \n",
      " 14  purpose               38577 non-null  object \n",
      " 15  addr_state            38577 non-null  object \n",
      " 16  dti                   38577 non-null  float64\n",
      " 17  pub_rec_bankruptcies  37880 non-null  float64\n",
      "dtypes: float64(5), int64(3), object(10)\n",
      "memory usage: 5.6+ MB\n"
     ]
    }
   ],
   "source": [
    "loan_df.info(verbose = True, show_counts = True)"
   ]
  },
  {
   "cell_type": "markdown",
   "id": "b53d20fe",
   "metadata": {},
   "source": [
    "We have narrowed down our dataset to 22 features and 38577 records."
   ]
  },
  {
   "cell_type": "markdown",
   "id": "de89d74e",
   "metadata": {},
   "source": [
    "## Fixing Data"
   ]
  },
  {
   "cell_type": "markdown",
   "id": "6292b7d8",
   "metadata": {},
   "source": [
    "### Variable types"
   ]
  },
  {
   "cell_type": "markdown",
   "id": "682baa67",
   "metadata": {},
   "source": [
    "At this point of time we can broadly divide all vriables into two types -\n",
    "- Categorical variables\n",
    "- Numeric variables"
   ]
  },
  {
   "cell_type": "code",
   "execution_count": 416,
   "id": "1ed56600",
   "metadata": {},
   "outputs": [],
   "source": [
    "categorical_variables = [\"term\", \"grade\", \"sub_grade\", \"emp_length\", \"home_ownership\", \"verification_status\", \"issue_d\", \"loan_status\", \"purpose\", \"addr_state\", \"pub_rec_bankruptcies\"]\n",
    "continuous_variables = [\"loan_amnt\", \"funded_amnt\", \"funded_amnt_inv\", \"int_rate\", \"installment\", \"annual_inc\", \"dti\"]"
   ]
  },
  {
   "cell_type": "markdown",
   "id": "d52fc3eb",
   "metadata": {},
   "source": [
    "Since int_rate is a continous variable, we need to fix datatype of this column from object to float"
   ]
  },
  {
   "cell_type": "code",
   "execution_count": 417,
   "id": "e1e33eb9",
   "metadata": {},
   "outputs": [],
   "source": [
    "# Remove \"%\" from int_rate and caste the values to float\n",
    "loan_df[\"int_rate\"] = loan_df[\"int_rate\"].apply(lambda x: float(x[:-1]))"
   ]
  },
  {
   "cell_type": "markdown",
   "id": "13237c57",
   "metadata": {},
   "source": [
    "### Outlier detection"
   ]
  },
  {
   "cell_type": "code",
   "execution_count": 418,
   "id": "a7773f00",
   "metadata": {},
   "outputs": [
    {
     "data": {
      "text/html": [
       "<div>\n",
       "<style scoped>\n",
       "    .dataframe tbody tr th:only-of-type {\n",
       "        vertical-align: middle;\n",
       "    }\n",
       "\n",
       "    .dataframe tbody tr th {\n",
       "        vertical-align: top;\n",
       "    }\n",
       "\n",
       "    .dataframe thead th {\n",
       "        text-align: right;\n",
       "    }\n",
       "</style>\n",
       "<table border=\"1\" class=\"dataframe\">\n",
       "  <thead>\n",
       "    <tr style=\"text-align: right;\">\n",
       "      <th></th>\n",
       "      <th>count</th>\n",
       "      <th>mean</th>\n",
       "      <th>std</th>\n",
       "      <th>min</th>\n",
       "      <th>25%</th>\n",
       "      <th>50%</th>\n",
       "      <th>75%</th>\n",
       "      <th>max</th>\n",
       "    </tr>\n",
       "  </thead>\n",
       "  <tbody>\n",
       "    <tr>\n",
       "      <th>loan_amnt</th>\n",
       "      <td>38577.0</td>\n",
       "      <td>11047.025430</td>\n",
       "      <td>7348.441646</td>\n",
       "      <td>500.00</td>\n",
       "      <td>5300.00</td>\n",
       "      <td>9600.00</td>\n",
       "      <td>15000.00</td>\n",
       "      <td>35000.00</td>\n",
       "    </tr>\n",
       "    <tr>\n",
       "      <th>funded_amnt</th>\n",
       "      <td>38577.0</td>\n",
       "      <td>10784.058506</td>\n",
       "      <td>7090.306027</td>\n",
       "      <td>500.00</td>\n",
       "      <td>5200.00</td>\n",
       "      <td>9550.00</td>\n",
       "      <td>15000.00</td>\n",
       "      <td>35000.00</td>\n",
       "    </tr>\n",
       "    <tr>\n",
       "      <th>funded_amnt_inv</th>\n",
       "      <td>38577.0</td>\n",
       "      <td>10222.481123</td>\n",
       "      <td>7022.720644</td>\n",
       "      <td>0.00</td>\n",
       "      <td>5000.00</td>\n",
       "      <td>8733.44</td>\n",
       "      <td>14000.00</td>\n",
       "      <td>35000.00</td>\n",
       "    </tr>\n",
       "    <tr>\n",
       "      <th>int_rate</th>\n",
       "      <td>38577.0</td>\n",
       "      <td>11.932219</td>\n",
       "      <td>3.691327</td>\n",
       "      <td>5.42</td>\n",
       "      <td>8.94</td>\n",
       "      <td>11.71</td>\n",
       "      <td>14.38</td>\n",
       "      <td>24.40</td>\n",
       "    </tr>\n",
       "    <tr>\n",
       "      <th>installment</th>\n",
       "      <td>38577.0</td>\n",
       "      <td>322.466318</td>\n",
       "      <td>208.639215</td>\n",
       "      <td>15.69</td>\n",
       "      <td>165.74</td>\n",
       "      <td>277.86</td>\n",
       "      <td>425.55</td>\n",
       "      <td>1305.19</td>\n",
       "    </tr>\n",
       "    <tr>\n",
       "      <th>annual_inc</th>\n",
       "      <td>38577.0</td>\n",
       "      <td>68777.973681</td>\n",
       "      <td>64218.681802</td>\n",
       "      <td>4000.00</td>\n",
       "      <td>40000.00</td>\n",
       "      <td>58868.00</td>\n",
       "      <td>82000.00</td>\n",
       "      <td>6000000.00</td>\n",
       "    </tr>\n",
       "    <tr>\n",
       "      <th>dti</th>\n",
       "      <td>38577.0</td>\n",
       "      <td>13.272727</td>\n",
       "      <td>6.673044</td>\n",
       "      <td>0.00</td>\n",
       "      <td>8.13</td>\n",
       "      <td>13.37</td>\n",
       "      <td>18.56</td>\n",
       "      <td>29.99</td>\n",
       "    </tr>\n",
       "  </tbody>\n",
       "</table>\n",
       "</div>"
      ],
      "text/plain": [
       "                   count          mean           std      min       25%  \\\n",
       "loan_amnt        38577.0  11047.025430   7348.441646   500.00   5300.00   \n",
       "funded_amnt      38577.0  10784.058506   7090.306027   500.00   5200.00   \n",
       "funded_amnt_inv  38577.0  10222.481123   7022.720644     0.00   5000.00   \n",
       "int_rate         38577.0     11.932219      3.691327     5.42      8.94   \n",
       "installment      38577.0    322.466318    208.639215    15.69    165.74   \n",
       "annual_inc       38577.0  68777.973681  64218.681802  4000.00  40000.00   \n",
       "dti              38577.0     13.272727      6.673044     0.00      8.13   \n",
       "\n",
       "                      50%       75%         max  \n",
       "loan_amnt         9600.00  15000.00    35000.00  \n",
       "funded_amnt       9550.00  15000.00    35000.00  \n",
       "funded_amnt_inv   8733.44  14000.00    35000.00  \n",
       "int_rate            11.71     14.38       24.40  \n",
       "installment        277.86    425.55     1305.19  \n",
       "annual_inc       58868.00  82000.00  6000000.00  \n",
       "dti                 13.37     18.56       29.99  "
      ]
     },
     "execution_count": 418,
     "metadata": {},
     "output_type": "execute_result"
    }
   ],
   "source": [
    "loan_df[continuous_variables].describe().T"
   ]
  },
  {
   "cell_type": "code",
   "execution_count": 419,
   "id": "7a1bad8f",
   "metadata": {},
   "outputs": [],
   "source": [
    "# Function to get upper and lower threshold values to check outlier\n",
    "def outlier_thresholds(df, column_name, q1=0.10, q3=0.90):\n",
    "    quartile_1 = df[column_name].quantile(q1)\n",
    "    quartile_3 = df[column_name].quantile(q3)\n",
    "    iqr = quartile_3 - quartile_1 # inter quartile range\n",
    "    upper = quartile_3 + 1.5 * iqr\n",
    "    lower = quartile_1 - 1.5 * iqr\n",
    "    return lower, upper\n",
    "\n",
    "def check_outlier(df, column_name):\n",
    "    lower_threshold, upper_threshold = outlier_thresholds(df, column_name)\n",
    "    if df[(df[column_name] < lower_threshold) | (df[column_name] > upper_threshold)].any(axis = None):\n",
    "        return True\n",
    "    return False"
   ]
  },
  {
   "cell_type": "code",
   "execution_count": 420,
   "id": "483657de",
   "metadata": {},
   "outputs": [
    {
     "name": "stdout",
     "output_type": "stream",
     "text": [
      "Columns with outliers:\n"
     ]
    },
    {
     "data": {
      "text/plain": [
       "['annual_inc']"
      ]
     },
     "execution_count": 420,
     "metadata": {},
     "output_type": "execute_result"
    }
   ],
   "source": [
    "columns_with_outliers = []\n",
    "for col in continuous_variables:\n",
    "    if check_outlier(loan_df, col):\n",
    "        columns_with_outliers.append(col)\n",
    "print(\"Columns with outliers:\")\n",
    "columns_with_outliers"
   ]
  },
  {
   "cell_type": "code",
   "execution_count": 421,
   "id": "8abebe7f",
   "metadata": {},
   "outputs": [
    {
     "data": {
      "text/plain": [
       "<Axes: ylabel='annual_inc'>"
      ]
     },
     "execution_count": 421,
     "metadata": {},
     "output_type": "execute_result"
    },
    {
     "data": {
      "image/png": "[encoded data removed]",
      "text/plain": [
       "<Figure size 640x480 with 1 Axes>"
      ]
     },
     "metadata": {},
     "output_type": "display_data"
    }
   ],
   "source": [
    "sns.boxplot(y = \"annual_inc\", data = loan_df)"
   ]
  },
  {
   "cell_type": "markdown",
   "id": "732fcbb8",
   "metadata": {},
   "source": [
    "We have outliers in annual_inc. Let's fix these outliers by replacing them with nearest threshold values"
   ]
  },
  {
   "cell_type": "code",
   "execution_count": 422,
   "id": "0a1c5be3",
   "metadata": {},
   "outputs": [],
   "source": [
    "def fix_outliers(df, column_name):\n",
    "    lower_threshold, upper_threshold = outlier_thresholds(df, column_name)\n",
    "    # values less than lower_threshold is replaced by lower_threshold\n",
    "    df.loc[(df[column_name] < lower_threshold), column_name] = lower_threshold\n",
    "    # values more than upper_threshold is replaced by upper_threshold\n",
    "    df.loc[(df[column_name] > upper_threshold), column_name] = upper_threshold"
   ]
  },
  {
   "cell_type": "code",
   "execution_count": 423,
   "id": "e4cb0af0",
   "metadata": {},
   "outputs": [
    {
     "data": {
      "text/plain": [
       "<Axes: ylabel='annual_inc'>"
      ]
     },
     "execution_count": 423,
     "metadata": {},
     "output_type": "execute_result"
    },
    {
     "data": {
      "image/png": "[encoded data removed]",
      "text/plain": [
       "<Figure size 640x480 with 1 Axes>"
      ]
     },
     "metadata": {},
     "output_type": "display_data"
    }
   ],
   "source": [
    "# Fix outliers for annual_inc\n",
    "fix_outliers(loan_df, \"annual_inc\")\n",
    "sns.boxplot(y = \"annual_inc\", data = loan_df)"
   ]
  },
  {
   "cell_type": "markdown",
   "id": "9928d44c",
   "metadata": {},
   "source": [
    "### Imputing missing values"
   ]
  },
  {
   "cell_type": "code",
   "execution_count": 424,
   "id": "53556434",
   "metadata": {},
   "outputs": [
    {
     "data": {
      "text/plain": [
       "emp_length              1033\n",
       "pub_rec_bankruptcies     697\n",
       "annual_inc                 0\n",
       "dti                        0\n",
       "addr_state                 0\n",
       "purpose                    0\n",
       "loan_status                0\n",
       "issue_d                    0\n",
       "verification_status        0\n",
       "loan_amnt                  0\n",
       "funded_amnt                0\n",
       "sub_grade                  0\n",
       "grade                      0\n",
       "installment                0\n",
       "int_rate                   0\n",
       "term                       0\n",
       "funded_amnt_inv            0\n",
       "home_ownership             0\n",
       "dtype: int64"
      ]
     },
     "execution_count": 424,
     "metadata": {},
     "output_type": "execute_result"
    }
   ],
   "source": [
    "loan_df.isnull().sum().sort_values(ascending=False)"
   ]
  },
  {
   "cell_type": "markdown",
   "id": "5dc9f6d0",
   "metadata": {},
   "source": [
    "Columns emp_length and pub_rec_bankruptcies have missing values"
   ]
  },
  {
   "cell_type": "code",
   "execution_count": 425,
   "id": "eb8f82b9",
   "metadata": {},
   "outputs": [
    {
     "name": "stdout",
     "output_type": "stream",
     "text": [
      "Data type: object \n",
      "\n",
      "10+ years    8488\n",
      "< 1 year     4508\n",
      "2 years      4291\n",
      "3 years      4012\n",
      "4 years      3342\n",
      "5 years      3194\n",
      "1 year       3169\n",
      "6 years      2168\n",
      "7 years      1711\n",
      "8 years      1435\n",
      "9 years      1226\n",
      "Name: emp_length, dtype: int64 \n",
      "\n",
      "count         37544\n",
      "unique           11\n",
      "top       10+ years\n",
      "freq           8488\n",
      "Name: emp_length, dtype: object\n"
     ]
    }
   ],
   "source": [
    "# Analysing emp_length which is a categorical variable\n",
    "print(\"Data type:\", loan_df.emp_length.dtypes, \"\\n\")\n",
    "print(loan_df[\"emp_length\"].value_counts(), \"\\n\")\n",
    "print(loan_df.emp_length.describe())"
   ]
  },
  {
   "cell_type": "markdown",
   "id": "7140ea57",
   "metadata": {},
   "source": [
    "We can observe that \"10+ years\" is the most frequent value for emp_length, so missing values can be replaced with \"10+ years\" which is the mode."
   ]
  },
  {
   "cell_type": "code",
   "execution_count": 426,
   "id": "5823be1c",
   "metadata": {},
   "outputs": [],
   "source": [
    "loan_df.emp_length.fillna(loan_df.emp_length.mode()[0], inplace = True)"
   ]
  },
  {
   "cell_type": "code",
   "execution_count": 427,
   "id": "b7651534",
   "metadata": {},
   "outputs": [
    {
     "name": "stdout",
     "output_type": "stream",
     "text": [
      "Data type: float64 \n",
      "\n",
      "0.0    36238\n",
      "1.0     1637\n",
      "2.0        5\n",
      "Name: pub_rec_bankruptcies, dtype: int64 \n",
      "\n",
      "count    37880.000000\n",
      "mean         0.043479\n",
      "std          0.204583\n",
      "min          0.000000\n",
      "25%          0.000000\n",
      "50%          0.000000\n",
      "75%          0.000000\n",
      "max          2.000000\n",
      "Name: pub_rec_bankruptcies, dtype: float64\n"
     ]
    }
   ],
   "source": [
    "# Analysing pub_rec_bankruptcies which is again a categorical variable\n",
    "print(\"Data type:\", loan_df.pub_rec_bankruptcies.dtypes, \"\\n\")\n",
    "print(loan_df[\"pub_rec_bankruptcies\"].value_counts(), \"\\n\")\n",
    "print(loan_df.pub_rec_bankruptcies.describe())"
   ]
  },
  {
   "cell_type": "code",
   "execution_count": 428,
   "id": "0c5a8438",
   "metadata": {},
   "outputs": [],
   "source": [
    "# Replace missing values with mode\n",
    "loan_df.pub_rec_bankruptcies.fillna(loan_df.pub_rec_bankruptcies.mode()[0], inplace = True)\n",
    "# Caste datatype to int as it is essentially count of public records which is supposed to be an integer\n",
    "loan_df[\"pub_rec_bankruptcies\"] = loan_df[\"pub_rec_bankruptcies\"].apply(lambda x: int(x))"
   ]
  },
  {
   "cell_type": "code",
   "execution_count": 429,
   "id": "8f28c654",
   "metadata": {},
   "outputs": [
    {
     "data": {
      "text/plain": [
       "0"
      ]
     },
     "execution_count": 429,
     "metadata": {},
     "output_type": "execute_result"
    }
   ],
   "source": [
    "# Verify there is no null/missing value left in dataframe\n",
    "loan_df.isnull().sum().sum()"
   ]
  },
  {
   "cell_type": "code",
   "execution_count": 430,
   "id": "2d26a25f",
   "metadata": {},
   "outputs": [
    {
     "name": "stdout",
     "output_type": "stream",
     "text": [
      "<class 'pandas.core.frame.DataFrame'>\n",
      "Int64Index: 38577 entries, 0 to 39716\n",
      "Data columns (total 18 columns):\n",
      " #   Column                Non-Null Count  Dtype  \n",
      "---  ------                --------------  -----  \n",
      " 0   loan_amnt             38577 non-null  int64  \n",
      " 1   funded_amnt           38577 non-null  int64  \n",
      " 2   funded_amnt_inv       38577 non-null  float64\n",
      " 3   term                  38577 non-null  object \n",
      " 4   int_rate              38577 non-null  float64\n",
      " 5   installment           38577 non-null  float64\n",
      " 6   grade                 38577 non-null  object \n",
      " 7   sub_grade             38577 non-null  object \n",
      " 8   emp_length            38577 non-null  object \n",
      " 9   home_ownership        38577 non-null  object \n",
      " 10  annual_inc            38577 non-null  float64\n",
      " 11  verification_status   38577 non-null  object \n",
      " 12  issue_d               38577 non-null  object \n",
      " 13  loan_status           38577 non-null  int64  \n",
      " 14  purpose               38577 non-null  object \n",
      " 15  addr_state            38577 non-null  object \n",
      " 16  dti                   38577 non-null  float64\n",
      " 17  pub_rec_bankruptcies  38577 non-null  int64  \n",
      "dtypes: float64(5), int64(4), object(9)\n",
      "memory usage: 5.6+ MB\n"
     ]
    }
   ],
   "source": [
    "loan_df.info(verbose = True, show_counts = True)"
   ]
  },
  {
   "cell_type": "markdown",
   "id": "747d3090",
   "metadata": {},
   "source": [
    "## Univariate Analysis"
   ]
  },
  {
   "cell_type": "markdown",
   "id": "c52b20a6",
   "metadata": {},
   "source": [
    "### Spread of defaulters across states"
   ]
  },
  {
   "cell_type": "code",
   "execution_count": 431,
   "id": "a0f67cb6",
   "metadata": {},
   "outputs": [
    {
     "data": {
      "text/plain": [
       "(5627, 18)"
      ]
     },
     "execution_count": 431,
     "metadata": {},
     "output_type": "execute_result"
    }
   ],
   "source": [
    "defaulters_df = loan_df[loan_df.loan_status == 0]\n",
    "defaulters_df.shape"
   ]
  },
  {
   "cell_type": "code",
   "execution_count": 443,
   "id": "a265465a",
   "metadata": {},
   "outputs": [
    {
     "data": {
      "image/png": "[encoded data removed]",
      "text/plain": [
       "<Figure size 1200x600 with 1 Axes>"
      ]
     },
     "metadata": {},
     "output_type": "display_data"
    }
   ],
   "source": [
    "plt.figure(figsize = (12, 6))\n",
    "value_counts = defaulters_df.addr_state.value_counts()\n",
    "sns.barplot(x = value_counts.index,\n",
    "            y = value_counts.values)\n",
    "plt.title(\"Spread of defaulters across the states\", fontsize = 15, color = 'purple')\n",
    "plt.ylabel(\"Frequency of defaulters\", color = 'blue')\n",
    "plt.xlabel(\"States\", color = 'blue')\n",
    "plt.show()"
   ]
  },
  {
   "cell_type": "markdown",
   "id": "44f6cc89",
   "metadata": {},
   "source": [
    "The above bar chart reveals that loan defaults in state CA is extremely high"
   ]
  },
  {
   "cell_type": "markdown",
   "id": "57744ddc",
   "metadata": {},
   "source": [
    "### Impact of verification_status on loan defaults"
   ]
  },
  {
   "cell_type": "code",
   "execution_count": 445,
   "id": "252ba7aa",
   "metadata": {},
   "outputs": [
    {
     "data": {
      "image/png": "[encoded data removed]",
      "text/plain": [
       "<Figure size 640x480 with 1 Axes>"
      ]
     },
     "metadata": {},
     "output_type": "display_data"
    }
   ],
   "source": [
    "value_counts = defaulters_df.verification_status.value_counts()\n",
    "sns.barplot(x = value_counts.index,\n",
    "            y = value_counts.values)\n",
    "plt.title(\"Frequency of loan defaults with diffrent verification status\", fontsize = 15, color = 'purple')\n",
    "plt.ylabel(\"Frequency of defaulters\", color = 'blue')\n",
    "plt.xlabel(\"Verification status\", color = 'blue')\n",
    "plt.show()"
   ]
  },
  {
   "cell_type": "markdown",
   "id": "d7bf1521",
   "metadata": {},
   "source": [
    "### Loan defaults across grades"
   ]
  },
  {
   "cell_type": "code",
   "execution_count": 446,
   "id": "4c9b1c72",
   "metadata": {},
   "outputs": [
    {
     "data": {
      "image/png": "[encoded data removed]",
      "text/plain": [
       "<Figure size 640x480 with 1 Axes>"
      ]
     },
     "metadata": {},
     "output_type": "display_data"
    }
   ],
   "source": [
    "value_counts = defaulters_df.grade.value_counts()\n",
    "sns.barplot(x = value_counts.index,\n",
    "            y = value_counts.values)\n",
    "plt.title(\"Frequency of loan defaults across loan grades\", fontsize = 15, color = 'purple')\n",
    "plt.ylabel(\"Frequency of defaulters\", color = 'blue')\n",
    "plt.xlabel(\"Loan grade\", color = 'blue')\n",
    "plt.show()"
   ]
  },
  {
   "cell_type": "markdown",
   "id": "30bc0a0e",
   "metadata": {},
   "source": [
    "### Loan defaults across terms"
   ]
  },
  {
   "cell_type": "code",
   "execution_count": 447,
   "id": "fad68ca4",
   "metadata": {},
   "outputs": [
    {
     "data": {
      "image/png": "[encoded data removed]",
      "text/plain": [
       "<Figure size 640x480 with 1 Axes>"
      ]
     },
     "metadata": {},
     "output_type": "display_data"
    }
   ],
   "source": [
    "value_counts = defaulters_df.term.value_counts()\n",
    "sns.barplot(x = value_counts.index,\n",
    "            y = value_counts.values)\n",
    "plt.title(\"Frequency of loan defaults across loan terms\", fontsize = 15, color = 'purple')\n",
    "plt.ylabel(\"Frequency of defaulters\", color = 'blue')\n",
    "plt.xlabel(\"Loan term\", color = 'blue')\n",
    "plt.show()"
   ]
  },
  {
   "cell_type": "markdown",
   "id": "3ef53852",
   "metadata": {},
   "source": [
    "There are comparatively more defaulters in short term loan"
   ]
  },
  {
   "cell_type": "markdown",
   "id": "55a8604a",
   "metadata": {},
   "source": [
    "### Loan defaults across purpose"
   ]
  },
  {
   "cell_type": "code",
   "execution_count": 451,
   "id": "d0175064",
   "metadata": {},
   "outputs": [
    {
     "data": {
      "image/png": "[encoded data removed]",
      "text/plain": [
       "<Figure size 1200x600 with 1 Axes>"
      ]
     },
     "metadata": {},
     "output_type": "display_data"
    }
   ],
   "source": [
    "plt.figure(figsize = (12, 6))\n",
    "value_counts = defaulters_df.purpose.value_counts()\n",
    "sns.barplot(x = value_counts.index,\n",
    "            y = value_counts.values)\n",
    "plt.title(\"Frequency of loan defaults across loan purpose\", fontsize = 15, color = 'purple')\n",
    "plt.ylabel(\"Frequency of defaulters\", color = 'blue')\n",
    "plt.xlabel(\"Loan purpose\", color = 'blue')\n",
    "plt.xticks(rotation=90)\n",
    "plt.show()"
   ]
  },
  {
   "cell_type": "markdown",
   "id": "c9f02f7a",
   "metadata": {},
   "source": [
    "It is higly likely that borrower would default on loan if its taken for the purpose of Debt consolidation"
   ]
  },
  {
   "cell_type": "markdown",
   "id": "1648b13a",
   "metadata": {},
   "source": [
    "### Distribution of loan defaults across home_ownership"
   ]
  },
  {
   "cell_type": "code",
   "execution_count": 452,
   "id": "ac48912c",
   "metadata": {},
   "outputs": [
    {
     "data": {
      "image/png": "[encoded data removed]",
      "text/plain": [
       "<Figure size 640x480 with 1 Axes>"
      ]
     },
     "metadata": {},
     "output_type": "display_data"
    }
   ],
   "source": [
    "value_counts = defaulters_df.home_ownership.value_counts()\n",
    "sns.barplot(x = value_counts.index,\n",
    "            y = value_counts.values)\n",
    "plt.title(\"Frequency of loan defaults across home ownership\", fontsize = 15, color = 'purple')\n",
    "plt.ylabel(\"Frequency of defaulters\", color = 'blue')\n",
    "plt.xlabel(\"Home ownership\", color = 'blue')\n",
    "plt.show()"
   ]
  },
  {
   "cell_type": "markdown",
   "id": "da2e5c24",
   "metadata": {},
   "source": [
    "We can say that people who own their house are less likely to default on loans perhaps because of their financial stability"
   ]
  },
  {
   "cell_type": "code",
   "execution_count": null,
   "id": "9ca05a35",
   "metadata": {},
   "outputs": [],
   "source": [
    "categorical_variables = [\"term\", \"grade\", \"sub_grade\", \"emp_length\", \"home_ownership\", \"verification_status\", \"issue_d\", \"loan_status\", \"purpose\", \"addr_state\", \"pub_rec_bankruptcies\"]"
   ]
  },
  {
   "cell_type": "markdown",
   "id": "ca74d465",
   "metadata": {},
   "source": [
    "### Distribution of loan defaults by emp_length"
   ]
  },
  {
   "cell_type": "code",
   "execution_count": 455,
   "id": "c9e46e79",
   "metadata": {},
   "outputs": [
    {
     "data": {
      "image/png": "[encoded data removed]",
      "text/plain": [
       "<Figure size 640x480 with 1 Axes>"
      ]
     },
     "metadata": {},
     "output_type": "display_data"
    }
   ],
   "source": [
    "value_counts = defaulters_df.emp_length.value_counts()\n",
    "sns.barplot(x = value_counts.index,\n",
    "            y = value_counts.values)\n",
    "plt.title(\"Frequency of loan defaults across employment length\", fontsize = 15, color = 'purple')\n",
    "plt.ylabel(\"Frequency of defaulters\", color = 'blue')\n",
    "plt.xlabel(\"Home ownership\", color = 'blue')\n",
    "plt.xticks(rotation=90)\n",
    "plt.show()"
   ]
  },
  {
   "cell_type": "markdown",
   "id": "b68127ce",
   "metadata": {},
   "source": [
    "More number of loan defaults has happened by borrowers who have 10+ years of employment duration. Maybe this data doesn't reveal the right picture because emp_length is not segmenated equally by these buckets. Majority of the borrwers will fall under \"10+ years\" bucket "
   ]
  },
  {
   "cell_type": "markdown",
   "id": "3ead6f04",
   "metadata": {},
   "source": [
    "### Distribution of loan defaults across years"
   ]
  },
  {
   "cell_type": "code",
   "execution_count": 468,
   "id": "9783ac0f",
   "metadata": {},
   "outputs": [
    {
     "data": {
      "image/png": "[encoded data removed]",
      "text/plain": [
       "<Figure size 640x480 with 1 Axes>"
      ]
     },
     "metadata": {},
     "output_type": "display_data"
    }
   ],
   "source": [
    "# Extract year from issue_d\n",
    "defaulters_df_1 = defaulters_df.copy(deep=True)\n",
    "defaulters_df_1.issue_year = defaulters_df[\"issue_d\"].apply(lambda x: \"20\" + x.split(\"-\")[-1])\n",
    "# defaulters_df[\"issue_year\"] = pd.to_datetime(defaulters_df['issue_d']).dt.year\n",
    "value_counts = defaulters_df_1.issue_year.value_counts()\n",
    "sns.barplot(x = value_counts.index,\n",
    "            y = value_counts.values)\n",
    "plt.title(\"Frequency of loan defaults across loan issue years\", fontsize = 15, color = 'purple')\n",
    "plt.ylabel(\"Frequency of defaulters\", color = 'blue')\n",
    "plt.xlabel(\"Year\", color = 'blue')\n",
    "plt.xticks(rotation=90)\n",
    "plt.show()"
   ]
  },
  {
   "cell_type": "markdown",
   "id": "662bd474",
   "metadata": {},
   "source": [
    "We observe that loans issued in 2011 have higher number of defaults. It can also be seen that loan defaults have been increasing over the years significantly"
   ]
  }
 ],
 "metadata": {
  "kernelspec": {
   "display_name": "Python 3 (ipykernel)",
   "language": "python",
   "name": "python3"
  },
  "language_info": {
   "codemirror_mode": {
    "name": "ipython",
    "version": 3
   },
   "file_extension": ".py",
   "mimetype": "text/x-python",
   "name": "python",
   "nbconvert_exporter": "python",
   "pygments_lexer": "ipython3",
   "version": "3.10.9"
  }
 },
 "nbformat": 4,
 "nbformat_minor": 5
}
